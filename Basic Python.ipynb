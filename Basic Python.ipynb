{
 "cells": [
  {
   "cell_type": "markdown",
   "id": "2a38bf4b-6b4e-4feb-90e2-6ecc2625ee89",
   "metadata": {},
   "source": [
    "#### Exercise 1: Prime Numbers:\n",
    "Write a Python program that checks whether a given number is prime or not.\n",
    "A prime number is a natural number greater than 1 that has no positive divisors\n",
    "other than 1 and itself."
   ]
  },
  {
   "cell_type": "code",
   "execution_count": 1,
   "id": "e33c42e0-7f4c-4f96-aa42-a359c1f1f535",
   "metadata": {},
   "outputs": [
    {
     "name": "stdin",
     "output_type": "stream",
     "text": [
      "enter a number: 37\n"
     ]
    },
    {
     "name": "stdout",
     "output_type": "stream",
     "text": [
      "37 is a prime number\n"
     ]
    }
   ],
   "source": [
    "num=int(input(\"enter a number:\"))\n",
    "for i in range(2,num):\n",
    "    if num % i == 0:\n",
    "        print(f\"{num} is not a prime number\")\n",
    "        break\n",
    "else:\n",
    "    print(f\"{num} is a prime number\")"
   ]
  },
  {
   "cell_type": "markdown",
   "id": "cd7ae5c6-c2a4-4ad3-b237-7620164b280a",
   "metadata": {},
   "source": [
    "#### Exercise 2: Product of Random Numbers\n",
    "Develop a Python program that generates two random numbers and asks the user to enter the product of these numbers.\n",
    "The program should then check if the user's answer is correct and display an appropriate message."
   ]
  },
  {
   "cell_type": "code",
   "execution_count": 29,
   "id": "9ff91de4-a733-43c2-9598-b412515b44ea",
   "metadata": {},
   "outputs": [
    {
     "name": "stdout",
     "output_type": "stream",
     "text": [
      "What is the product of 10 and 8?\n"
     ]
    },
    {
     "name": "stdin",
     "output_type": "stream",
     "text": [
      "Your answer:  80\n"
     ]
    },
    {
     "name": "stdout",
     "output_type": "stream",
     "text": [
      "Correct! Well done.\n"
     ]
    }
   ],
   "source": [
    "import random\n",
    "num1 = random.randint(1,10)\n",
    "num2 = random.randint(1,10)\n",
    "correct_product = num1 * num2\n",
    "\n",
    "# Ask the user to input the product\n",
    "print(f\"What is the product of {num1} and {num2}?\")\n",
    "user_answer = int(input(\"Your answer: \"))\n",
    "\n",
    "# Check if the answer is correct\n",
    "if user_answer == correct_product:\n",
    "    print(\"Correct! Well done.\")\n",
    "else:\n",
    "    print(f\"Incorrect. The correct answer is: {correct_product}.\")"
   ]
  },
  {
   "cell_type": "markdown",
   "id": "f339a17d-7bfa-4915-af20-438435112c6d",
   "metadata": {},
   "source": [
    "#### Exercise 3: Squares of Even/Odd Numbers\n",
    "Create a Python script that prints the squares of all even or odd numbers within the range of 100 to 200.\n",
    "Choose either even or odd numbers and document your choice in the code."
   ]
  },
  {
   "cell_type": "code",
   "execution_count": 11,
   "id": "8cc55411-5792-461d-8e49-13857077c65a",
   "metadata": {},
   "outputs": [
    {
     "name": "stdout",
     "output_type": "stream",
     "text": [
      "The square of 101 is 10201\n",
      "The square of 103 is 10609\n",
      "The square of 105 is 11025\n",
      "The square of 107 is 11449\n",
      "The square of 109 is 11881\n",
      "The square of 111 is 12321\n",
      "The square of 113 is 12769\n",
      "The square of 115 is 13225\n",
      "The square of 117 is 13689\n",
      "The square of 119 is 14161\n",
      "The square of 121 is 14641\n",
      "The square of 123 is 15129\n",
      "The square of 125 is 15625\n",
      "The square of 127 is 16129\n",
      "The square of 129 is 16641\n",
      "The square of 131 is 17161\n",
      "The square of 133 is 17689\n",
      "The square of 135 is 18225\n",
      "The square of 137 is 18769\n",
      "The square of 139 is 19321\n",
      "The square of 141 is 19881\n",
      "The square of 143 is 20449\n",
      "The square of 145 is 21025\n",
      "The square of 147 is 21609\n",
      "The square of 149 is 22201\n",
      "The square of 151 is 22801\n",
      "The square of 153 is 23409\n",
      "The square of 155 is 24025\n",
      "The square of 157 is 24649\n",
      "The square of 159 is 25281\n",
      "The square of 161 is 25921\n",
      "The square of 163 is 26569\n",
      "The square of 165 is 27225\n",
      "The square of 167 is 27889\n",
      "The square of 169 is 28561\n",
      "The square of 171 is 29241\n",
      "The square of 173 is 29929\n",
      "The square of 175 is 30625\n",
      "The square of 177 is 31329\n",
      "The square of 179 is 32041\n",
      "The square of 181 is 32761\n",
      "The square of 183 is 33489\n",
      "The square of 185 is 34225\n",
      "The square of 187 is 34969\n",
      "The square of 189 is 35721\n",
      "The square of 191 is 36481\n",
      "The square of 193 is 37249\n",
      "The square of 195 is 38025\n",
      "The square of 197 is 38809\n",
      "The square of 199 is 39601\n"
     ]
    }
   ],
   "source": [
    "for number in range(100, 201):\n",
    "    if number % 2 != 0:  # Check if the number is odd\n",
    "        square = number ** 2\n",
    "        print(f\"The square of {number} is {square}\")"
   ]
  },
  {
   "cell_type": "markdown",
   "id": "77d038d5-ee4d-43b0-975c-24ad85cf65d2",
   "metadata": {},
   "source": [
    "#### Exercise 4: Word counter\n",
    "write a program to count the number of words in a given text."
   ]
  },
  {
   "cell_type": "code",
   "execution_count": 23,
   "id": "aec28124-2c0b-4e89-a7da-eb1ac1744e70",
   "metadata": {},
   "outputs": [
    {
     "name": "stdout",
     "output_type": "stream",
     "text": [
      "This= 2\n",
      "is= 1\n",
      "a= 1\n",
      "sample= 1\n",
      "text.= 1\n",
      "text= 1\n",
      "will= 1\n",
      "be= 1\n",
      "used= 1\n",
      "to= 1\n",
      "demonstrate= 1\n",
      "the= 1\n",
      "word= 1\n",
      "counter.= 1\n"
     ]
    }
   ],
   "source": [
    "# Sample input text\n",
    "input_text = \"This is a sample text. This text will be used to demonstrate the word counter.\"\n",
    "words = input_text.split()\n",
    "# Create an empty dictionary to store word counts\n",
    "word_counts = {}\n",
    "for word in words:\n",
    "    if word in word_counts:\n",
    "        word_counts[word] += 1\n",
    "    else:\n",
    "        word_counts[word] = 1\n",
    "for word, count in word_counts.items():\n",
    "    print(f\"{word}= {count}\")"
   ]
  },
  {
   "cell_type": "markdown",
   "id": "29a373e0-c81e-44da-a9c6-b17387844222",
   "metadata": {},
   "source": [
    "#### Exercise 5: Check for Palindrome\n",
    "Write a Python function called is_palindrome that takes a string as input and returns True if the string is a palindrome, and False otherwise. \n",
    "A palindrome is a word, phrase, number, or other sequence of characters that reads the same forward and backward, ignoring spaces, punctuation, and capitalization."
   ]
  },
  {
   "cell_type": "code",
   "execution_count": 28,
   "id": "1d42fa1f-1341-4c39-a97b-ed282d964d4d",
   "metadata": {},
   "outputs": [
    {
     "name": "stdin",
     "output_type": "stream",
     "text": [
      "Enter a string:  racecar\n"
     ]
    },
    {
     "data": {
      "text/plain": [
       "True"
      ]
     },
     "execution_count": 28,
     "metadata": {},
     "output_type": "execute_result"
    }
   ],
   "source": [
    "def is_palindrome():\n",
    "    text = str(input(\"Enter a string: \"))\n",
    "    if text == text[::-1]:\n",
    "        return True\n",
    "    else:\n",
    "        return False\n",
    "is_palindrome()     "
   ]
  },
  {
   "cell_type": "code",
   "execution_count": null,
   "id": "5ceeab11-8fcb-47bc-8aa9-bbc49711460c",
   "metadata": {},
   "outputs": [],
   "source": []
  }
 ],
 "metadata": {
  "kernelspec": {
   "display_name": "Python [conda env:base] *",
   "language": "python",
   "name": "conda-base-py"
  },
  "language_info": {
   "codemirror_mode": {
    "name": "ipython",
    "version": 3
   },
   "file_extension": ".py",
   "mimetype": "text/x-python",
   "name": "python",
   "nbconvert_exporter": "python",
   "pygments_lexer": "ipython3",
   "version": "3.12.7"
  }
 },
 "nbformat": 4,
 "nbformat_minor": 5
}
