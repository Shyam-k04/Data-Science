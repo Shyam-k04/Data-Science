{
 "cells": [
  {
   "cell_type": "markdown",
   "id": "3b7b76a8-8dd7-48c1-8496-298fae22b2ea",
   "metadata": {},
   "source": [
    "#EXPLORATORY DATA ANALYSIS ON A DATASET\n",
    "\n",
    "Objective:\n",
    "The main goal of this assignment is to conduct a thorough exploratory analysis of the\n",
    "\"cardiographic.csv\" dataset to uncover insights, identify patterns, and understand the dataset's underlying structure. You will use statistical summaries, visualizations, and data manipulation techniques to explore the dataset comprehensively."
   ]
  },
  {
   "cell_type": "markdown",
   "id": "53ef7a33-71b8-4674-8ed7-0cb5d274cd60",
   "metadata": {},
   "source": [
    "#### Loading Dataset"
   ]
  },
  {
   "cell_type": "code",
   "execution_count": 1,
   "id": "80a2154f-7042-41b7-9058-c157ad748de4",
   "metadata": {},
   "outputs": [
    {
     "data": {
      "text/html": [
       "<div>\n",
       "<style scoped>\n",
       "    .dataframe tbody tr th:only-of-type {\n",
       "        vertical-align: middle;\n",
       "    }\n",
       "\n",
       "    .dataframe tbody tr th {\n",
       "        vertical-align: top;\n",
       "    }\n",
       "\n",
       "    .dataframe thead th {\n",
       "        text-align: right;\n",
       "    }\n",
       "</style>\n",
       "<table border=\"1\" class=\"dataframe\">\n",
       "  <thead>\n",
       "    <tr style=\"text-align: right;\">\n",
       "      <th></th>\n",
       "      <th>LB</th>\n",
       "      <th>AC</th>\n",
       "      <th>FM</th>\n",
       "      <th>UC</th>\n",
       "      <th>DL</th>\n",
       "      <th>DS</th>\n",
       "      <th>DP</th>\n",
       "      <th>ASTV</th>\n",
       "      <th>MSTV</th>\n",
       "      <th>ALTV</th>\n",
       "      <th>MLTV</th>\n",
       "      <th>Width</th>\n",
       "      <th>Tendency</th>\n",
       "      <th>NSP</th>\n",
       "    </tr>\n",
       "  </thead>\n",
       "  <tbody>\n",
       "    <tr>\n",
       "      <th>0</th>\n",
       "      <td>120.000000</td>\n",
       "      <td>0.000000</td>\n",
       "      <td>0.000000</td>\n",
       "      <td>0.000000</td>\n",
       "      <td>0.000000</td>\n",
       "      <td>0.0</td>\n",
       "      <td>0.0</td>\n",
       "      <td>73.0</td>\n",
       "      <td>0.5</td>\n",
       "      <td>43.000000</td>\n",
       "      <td>2.4</td>\n",
       "      <td>64.0</td>\n",
       "      <td>0.999926</td>\n",
       "      <td>2.000000</td>\n",
       "    </tr>\n",
       "    <tr>\n",
       "      <th>1</th>\n",
       "      <td>132.000000</td>\n",
       "      <td>0.006380</td>\n",
       "      <td>0.000000</td>\n",
       "      <td>0.006380</td>\n",
       "      <td>0.003190</td>\n",
       "      <td>0.0</td>\n",
       "      <td>0.0</td>\n",
       "      <td>17.0</td>\n",
       "      <td>2.1</td>\n",
       "      <td>0.000000</td>\n",
       "      <td>10.4</td>\n",
       "      <td>130.0</td>\n",
       "      <td>0.000000</td>\n",
       "      <td>1.000000</td>\n",
       "    </tr>\n",
       "    <tr>\n",
       "      <th>2</th>\n",
       "      <td>133.000000</td>\n",
       "      <td>0.003322</td>\n",
       "      <td>0.000000</td>\n",
       "      <td>0.008306</td>\n",
       "      <td>0.003322</td>\n",
       "      <td>0.0</td>\n",
       "      <td>0.0</td>\n",
       "      <td>16.0</td>\n",
       "      <td>2.1</td>\n",
       "      <td>0.000000</td>\n",
       "      <td>13.4</td>\n",
       "      <td>130.0</td>\n",
       "      <td>0.000000</td>\n",
       "      <td>1.000000</td>\n",
       "    </tr>\n",
       "    <tr>\n",
       "      <th>3</th>\n",
       "      <td>134.000000</td>\n",
       "      <td>0.002561</td>\n",
       "      <td>0.000000</td>\n",
       "      <td>0.007742</td>\n",
       "      <td>0.002561</td>\n",
       "      <td>0.0</td>\n",
       "      <td>0.0</td>\n",
       "      <td>16.0</td>\n",
       "      <td>2.4</td>\n",
       "      <td>0.000000</td>\n",
       "      <td>23.0</td>\n",
       "      <td>117.0</td>\n",
       "      <td>1.000000</td>\n",
       "      <td>1.000000</td>\n",
       "    </tr>\n",
       "    <tr>\n",
       "      <th>4</th>\n",
       "      <td>131.948232</td>\n",
       "      <td>0.006515</td>\n",
       "      <td>0.000000</td>\n",
       "      <td>0.008143</td>\n",
       "      <td>0.000000</td>\n",
       "      <td>0.0</td>\n",
       "      <td>0.0</td>\n",
       "      <td>16.0</td>\n",
       "      <td>2.4</td>\n",
       "      <td>0.000000</td>\n",
       "      <td>19.9</td>\n",
       "      <td>117.0</td>\n",
       "      <td>1.000000</td>\n",
       "      <td>1.000000</td>\n",
       "    </tr>\n",
       "    <tr>\n",
       "      <th>...</th>\n",
       "      <td>...</td>\n",
       "      <td>...</td>\n",
       "      <td>...</td>\n",
       "      <td>...</td>\n",
       "      <td>...</td>\n",
       "      <td>...</td>\n",
       "      <td>...</td>\n",
       "      <td>...</td>\n",
       "      <td>...</td>\n",
       "      <td>...</td>\n",
       "      <td>...</td>\n",
       "      <td>...</td>\n",
       "      <td>...</td>\n",
       "      <td>...</td>\n",
       "    </tr>\n",
       "    <tr>\n",
       "      <th>2121</th>\n",
       "      <td>140.000000</td>\n",
       "      <td>0.000000</td>\n",
       "      <td>0.961268</td>\n",
       "      <td>0.007426</td>\n",
       "      <td>0.000000</td>\n",
       "      <td>0.0</td>\n",
       "      <td>0.0</td>\n",
       "      <td>79.0</td>\n",
       "      <td>0.2</td>\n",
       "      <td>25.000000</td>\n",
       "      <td>7.2</td>\n",
       "      <td>40.0</td>\n",
       "      <td>0.000000</td>\n",
       "      <td>2.000000</td>\n",
       "    </tr>\n",
       "    <tr>\n",
       "      <th>2122</th>\n",
       "      <td>140.000000</td>\n",
       "      <td>0.000775</td>\n",
       "      <td>0.000000</td>\n",
       "      <td>0.006979</td>\n",
       "      <td>0.000000</td>\n",
       "      <td>0.0</td>\n",
       "      <td>0.0</td>\n",
       "      <td>78.0</td>\n",
       "      <td>0.4</td>\n",
       "      <td>22.000000</td>\n",
       "      <td>7.1</td>\n",
       "      <td>66.0</td>\n",
       "      <td>1.000000</td>\n",
       "      <td>2.000000</td>\n",
       "    </tr>\n",
       "    <tr>\n",
       "      <th>2123</th>\n",
       "      <td>140.000000</td>\n",
       "      <td>0.000980</td>\n",
       "      <td>0.000000</td>\n",
       "      <td>0.006863</td>\n",
       "      <td>0.000000</td>\n",
       "      <td>0.0</td>\n",
       "      <td>0.0</td>\n",
       "      <td>79.0</td>\n",
       "      <td>0.4</td>\n",
       "      <td>20.000000</td>\n",
       "      <td>6.1</td>\n",
       "      <td>67.0</td>\n",
       "      <td>1.000000</td>\n",
       "      <td>1.990464</td>\n",
       "    </tr>\n",
       "    <tr>\n",
       "      <th>2124</th>\n",
       "      <td>140.000000</td>\n",
       "      <td>0.000679</td>\n",
       "      <td>0.000000</td>\n",
       "      <td>0.006110</td>\n",
       "      <td>0.000000</td>\n",
       "      <td>0.0</td>\n",
       "      <td>0.0</td>\n",
       "      <td>78.0</td>\n",
       "      <td>0.4</td>\n",
       "      <td>27.000000</td>\n",
       "      <td>7.0</td>\n",
       "      <td>66.0</td>\n",
       "      <td>1.000000</td>\n",
       "      <td>2.000000</td>\n",
       "    </tr>\n",
       "    <tr>\n",
       "      <th>2125</th>\n",
       "      <td>142.000000</td>\n",
       "      <td>0.001616</td>\n",
       "      <td>-0.000188</td>\n",
       "      <td>0.008078</td>\n",
       "      <td>0.000000</td>\n",
       "      <td>0.0</td>\n",
       "      <td>0.0</td>\n",
       "      <td>74.0</td>\n",
       "      <td>0.4</td>\n",
       "      <td>35.857183</td>\n",
       "      <td>5.0</td>\n",
       "      <td>42.0</td>\n",
       "      <td>0.000000</td>\n",
       "      <td>1.000000</td>\n",
       "    </tr>\n",
       "  </tbody>\n",
       "</table>\n",
       "<p>2126 rows × 14 columns</p>\n",
       "</div>"
      ],
      "text/plain": [
       "              LB        AC        FM        UC        DL   DS   DP  ASTV  \\\n",
       "0     120.000000  0.000000  0.000000  0.000000  0.000000  0.0  0.0  73.0   \n",
       "1     132.000000  0.006380  0.000000  0.006380  0.003190  0.0  0.0  17.0   \n",
       "2     133.000000  0.003322  0.000000  0.008306  0.003322  0.0  0.0  16.0   \n",
       "3     134.000000  0.002561  0.000000  0.007742  0.002561  0.0  0.0  16.0   \n",
       "4     131.948232  0.006515  0.000000  0.008143  0.000000  0.0  0.0  16.0   \n",
       "...          ...       ...       ...       ...       ...  ...  ...   ...   \n",
       "2121  140.000000  0.000000  0.961268  0.007426  0.000000  0.0  0.0  79.0   \n",
       "2122  140.000000  0.000775  0.000000  0.006979  0.000000  0.0  0.0  78.0   \n",
       "2123  140.000000  0.000980  0.000000  0.006863  0.000000  0.0  0.0  79.0   \n",
       "2124  140.000000  0.000679  0.000000  0.006110  0.000000  0.0  0.0  78.0   \n",
       "2125  142.000000  0.001616 -0.000188  0.008078  0.000000  0.0  0.0  74.0   \n",
       "\n",
       "      MSTV       ALTV  MLTV  Width  Tendency       NSP  \n",
       "0      0.5  43.000000   2.4   64.0  0.999926  2.000000  \n",
       "1      2.1   0.000000  10.4  130.0  0.000000  1.000000  \n",
       "2      2.1   0.000000  13.4  130.0  0.000000  1.000000  \n",
       "3      2.4   0.000000  23.0  117.0  1.000000  1.000000  \n",
       "4      2.4   0.000000  19.9  117.0  1.000000  1.000000  \n",
       "...    ...        ...   ...    ...       ...       ...  \n",
       "2121   0.2  25.000000   7.2   40.0  0.000000  2.000000  \n",
       "2122   0.4  22.000000   7.1   66.0  1.000000  2.000000  \n",
       "2123   0.4  20.000000   6.1   67.0  1.000000  1.990464  \n",
       "2124   0.4  27.000000   7.0   66.0  1.000000  2.000000  \n",
       "2125   0.4  35.857183   5.0   42.0  0.000000  1.000000  \n",
       "\n",
       "[2126 rows x 14 columns]"
      ]
     },
     "execution_count": 1,
     "metadata": {},
     "output_type": "execute_result"
    }
   ],
   "source": [
    "import pandas as pd\n",
    "df=pd.read_csv(\"Cardiotocographic.csv\")\n",
    "df"
   ]
  },
  {
   "cell_type": "code",
   "execution_count": 2,
   "id": "b92f5572-7abc-4b86-8c06-2b9e3b677ce8",
   "metadata": {},
   "outputs": [
    {
     "name": "stdout",
     "output_type": "stream",
     "text": [
      "<class 'pandas.core.frame.DataFrame'>\n",
      "RangeIndex: 2126 entries, 0 to 2125\n",
      "Data columns (total 14 columns):\n",
      " #   Column    Non-Null Count  Dtype  \n",
      "---  ------    --------------  -----  \n",
      " 0   LB        2105 non-null   float64\n",
      " 1   AC        2106 non-null   float64\n",
      " 2   FM        2126 non-null   float64\n",
      " 3   UC        2126 non-null   float64\n",
      " 4   DL        2126 non-null   float64\n",
      " 5   DS        2105 non-null   float64\n",
      " 6   DP        2105 non-null   float64\n",
      " 7   ASTV      2126 non-null   float64\n",
      " 8   MSTV      2126 non-null   float64\n",
      " 9   ALTV      2126 non-null   float64\n",
      " 10  MLTV      2105 non-null   float64\n",
      " 11  Width     2105 non-null   float64\n",
      " 12  Tendency  2105 non-null   float64\n",
      " 13  NSP       2105 non-null   float64\n",
      "dtypes: float64(14)\n",
      "memory usage: 232.7 KB\n"
     ]
    }
   ],
   "source": [
    "df.info()"
   ]
  },
  {
   "cell_type": "markdown",
   "id": "2f85231a-8c5b-4551-a326-1f63d61a7e04",
   "metadata": {},
   "source": [
    "#### 1.Data Cleaning and Preparation:\n"
   ]
  },
  {
   "cell_type": "code",
   "execution_count": 3,
   "id": "2a2a048a-0c80-4b7b-982a-3311458fcffc",
   "metadata": {},
   "outputs": [
    {
     "data": {
      "text/html": [
       "<div>\n",
       "<style scoped>\n",
       "    .dataframe tbody tr th:only-of-type {\n",
       "        vertical-align: middle;\n",
       "    }\n",
       "\n",
       "    .dataframe tbody tr th {\n",
       "        vertical-align: top;\n",
       "    }\n",
       "\n",
       "    .dataframe thead th {\n",
       "        text-align: right;\n",
       "    }\n",
       "</style>\n",
       "<table border=\"1\" class=\"dataframe\">\n",
       "  <thead>\n",
       "    <tr style=\"text-align: right;\">\n",
       "      <th></th>\n",
       "      <th>LB</th>\n",
       "      <th>AC</th>\n",
       "      <th>FM</th>\n",
       "      <th>UC</th>\n",
       "      <th>DL</th>\n",
       "      <th>DS</th>\n",
       "      <th>DP</th>\n",
       "      <th>ASTV</th>\n",
       "      <th>MSTV</th>\n",
       "      <th>ALTV</th>\n",
       "      <th>MLTV</th>\n",
       "      <th>Width</th>\n",
       "      <th>Tendency</th>\n",
       "      <th>NSP</th>\n",
       "    </tr>\n",
       "  </thead>\n",
       "  <tbody>\n",
       "    <tr>\n",
       "      <th>50</th>\n",
       "      <td>NaN</td>\n",
       "      <td>NaN</td>\n",
       "      <td>0.000000</td>\n",
       "      <td>0.008086</td>\n",
       "      <td>0.000000</td>\n",
       "      <td>NaN</td>\n",
       "      <td>NaN</td>\n",
       "      <td>29.000000</td>\n",
       "      <td>1.300000</td>\n",
       "      <td>0.000000</td>\n",
       "      <td>NaN</td>\n",
       "      <td>NaN</td>\n",
       "      <td>NaN</td>\n",
       "      <td>NaN</td>\n",
       "    </tr>\n",
       "    <tr>\n",
       "      <th>116</th>\n",
       "      <td>NaN</td>\n",
       "      <td>0.038567</td>\n",
       "      <td>0.000000</td>\n",
       "      <td>0.006993</td>\n",
       "      <td>0.002331</td>\n",
       "      <td>NaN</td>\n",
       "      <td>NaN</td>\n",
       "      <td>26.000000</td>\n",
       "      <td>4.300000</td>\n",
       "      <td>0.532872</td>\n",
       "      <td>NaN</td>\n",
       "      <td>NaN</td>\n",
       "      <td>NaN</td>\n",
       "      <td>NaN</td>\n",
       "    </tr>\n",
       "    <tr>\n",
       "      <th>126</th>\n",
       "      <td>NaN</td>\n",
       "      <td>NaN</td>\n",
       "      <td>0.000000</td>\n",
       "      <td>0.004380</td>\n",
       "      <td>0.000000</td>\n",
       "      <td>NaN</td>\n",
       "      <td>NaN</td>\n",
       "      <td>69.000000</td>\n",
       "      <td>0.300000</td>\n",
       "      <td>21.000000</td>\n",
       "      <td>NaN</td>\n",
       "      <td>NaN</td>\n",
       "      <td>NaN</td>\n",
       "      <td>NaN</td>\n",
       "    </tr>\n",
       "    <tr>\n",
       "      <th>201</th>\n",
       "      <td>NaN</td>\n",
       "      <td>NaN</td>\n",
       "      <td>0.016393</td>\n",
       "      <td>0.000000</td>\n",
       "      <td>0.000000</td>\n",
       "      <td>NaN</td>\n",
       "      <td>NaN</td>\n",
       "      <td>56.000000</td>\n",
       "      <td>0.500000</td>\n",
       "      <td>12.000000</td>\n",
       "      <td>NaN</td>\n",
       "      <td>NaN</td>\n",
       "      <td>NaN</td>\n",
       "      <td>NaN</td>\n",
       "    </tr>\n",
       "    <tr>\n",
       "      <th>566</th>\n",
       "      <td>NaN</td>\n",
       "      <td>NaN</td>\n",
       "      <td>0.000000</td>\n",
       "      <td>0.004115</td>\n",
       "      <td>0.005487</td>\n",
       "      <td>NaN</td>\n",
       "      <td>NaN</td>\n",
       "      <td>43.000000</td>\n",
       "      <td>2.500000</td>\n",
       "      <td>0.000000</td>\n",
       "      <td>NaN</td>\n",
       "      <td>NaN</td>\n",
       "      <td>NaN</td>\n",
       "      <td>NaN</td>\n",
       "    </tr>\n",
       "    <tr>\n",
       "      <th>574</th>\n",
       "      <td>NaN</td>\n",
       "      <td>NaN</td>\n",
       "      <td>0.000000</td>\n",
       "      <td>0.002611</td>\n",
       "      <td>0.002611</td>\n",
       "      <td>NaN</td>\n",
       "      <td>NaN</td>\n",
       "      <td>34.000000</td>\n",
       "      <td>4.900000</td>\n",
       "      <td>0.000000</td>\n",
       "      <td>NaN</td>\n",
       "      <td>NaN</td>\n",
       "      <td>NaN</td>\n",
       "      <td>NaN</td>\n",
       "    </tr>\n",
       "    <tr>\n",
       "      <th>603</th>\n",
       "      <td>NaN</td>\n",
       "      <td>NaN</td>\n",
       "      <td>0.006519</td>\n",
       "      <td>0.001304</td>\n",
       "      <td>0.001304</td>\n",
       "      <td>NaN</td>\n",
       "      <td>NaN</td>\n",
       "      <td>73.000000</td>\n",
       "      <td>0.700000</td>\n",
       "      <td>0.000000</td>\n",
       "      <td>NaN</td>\n",
       "      <td>NaN</td>\n",
       "      <td>NaN</td>\n",
       "      <td>NaN</td>\n",
       "    </tr>\n",
       "    <tr>\n",
       "      <th>935</th>\n",
       "      <td>NaN</td>\n",
       "      <td>NaN</td>\n",
       "      <td>0.000000</td>\n",
       "      <td>0.005495</td>\n",
       "      <td>0.001374</td>\n",
       "      <td>NaN</td>\n",
       "      <td>NaN</td>\n",
       "      <td>30.000000</td>\n",
       "      <td>1.251793</td>\n",
       "      <td>0.000000</td>\n",
       "      <td>NaN</td>\n",
       "      <td>NaN</td>\n",
       "      <td>NaN</td>\n",
       "      <td>NaN</td>\n",
       "    </tr>\n",
       "    <tr>\n",
       "      <th>936</th>\n",
       "      <td>NaN</td>\n",
       "      <td>NaN</td>\n",
       "      <td>0.000000</td>\n",
       "      <td>0.007802</td>\n",
       "      <td>0.000000</td>\n",
       "      <td>NaN</td>\n",
       "      <td>NaN</td>\n",
       "      <td>33.000000</td>\n",
       "      <td>1.000000</td>\n",
       "      <td>0.000000</td>\n",
       "      <td>NaN</td>\n",
       "      <td>NaN</td>\n",
       "      <td>NaN</td>\n",
       "      <td>NaN</td>\n",
       "    </tr>\n",
       "    <tr>\n",
       "      <th>1013</th>\n",
       "      <td>NaN</td>\n",
       "      <td>NaN</td>\n",
       "      <td>0.000000</td>\n",
       "      <td>0.003861</td>\n",
       "      <td>0.000000</td>\n",
       "      <td>NaN</td>\n",
       "      <td>NaN</td>\n",
       "      <td>34.000000</td>\n",
       "      <td>1.000000</td>\n",
       "      <td>0.000000</td>\n",
       "      <td>NaN</td>\n",
       "      <td>NaN</td>\n",
       "      <td>NaN</td>\n",
       "      <td>NaN</td>\n",
       "    </tr>\n",
       "    <tr>\n",
       "      <th>1205</th>\n",
       "      <td>NaN</td>\n",
       "      <td>NaN</td>\n",
       "      <td>-0.000129</td>\n",
       "      <td>0.006424</td>\n",
       "      <td>0.000000</td>\n",
       "      <td>NaN</td>\n",
       "      <td>NaN</td>\n",
       "      <td>63.000000</td>\n",
       "      <td>0.500000</td>\n",
       "      <td>35.000000</td>\n",
       "      <td>NaN</td>\n",
       "      <td>NaN</td>\n",
       "      <td>NaN</td>\n",
       "      <td>NaN</td>\n",
       "    </tr>\n",
       "    <tr>\n",
       "      <th>1332</th>\n",
       "      <td>NaN</td>\n",
       "      <td>NaN</td>\n",
       "      <td>0.010204</td>\n",
       "      <td>0.002551</td>\n",
       "      <td>0.005102</td>\n",
       "      <td>NaN</td>\n",
       "      <td>NaN</td>\n",
       "      <td>27.000000</td>\n",
       "      <td>1.900000</td>\n",
       "      <td>0.000000</td>\n",
       "      <td>NaN</td>\n",
       "      <td>NaN</td>\n",
       "      <td>NaN</td>\n",
       "      <td>NaN</td>\n",
       "    </tr>\n",
       "    <tr>\n",
       "      <th>1347</th>\n",
       "      <td>NaN</td>\n",
       "      <td>NaN</td>\n",
       "      <td>0.018519</td>\n",
       "      <td>0.003466</td>\n",
       "      <td>0.002315</td>\n",
       "      <td>NaN</td>\n",
       "      <td>NaN</td>\n",
       "      <td>30.000000</td>\n",
       "      <td>2.100000</td>\n",
       "      <td>0.000000</td>\n",
       "      <td>NaN</td>\n",
       "      <td>NaN</td>\n",
       "      <td>NaN</td>\n",
       "      <td>NaN</td>\n",
       "    </tr>\n",
       "    <tr>\n",
       "      <th>1430</th>\n",
       "      <td>NaN</td>\n",
       "      <td>NaN</td>\n",
       "      <td>-0.001442</td>\n",
       "      <td>0.005038</td>\n",
       "      <td>0.000000</td>\n",
       "      <td>NaN</td>\n",
       "      <td>NaN</td>\n",
       "      <td>42.000000</td>\n",
       "      <td>0.700000</td>\n",
       "      <td>0.000000</td>\n",
       "      <td>NaN</td>\n",
       "      <td>NaN</td>\n",
       "      <td>NaN</td>\n",
       "      <td>NaN</td>\n",
       "    </tr>\n",
       "    <tr>\n",
       "      <th>1636</th>\n",
       "      <td>NaN</td>\n",
       "      <td>NaN</td>\n",
       "      <td>0.005650</td>\n",
       "      <td>0.004708</td>\n",
       "      <td>0.001883</td>\n",
       "      <td>NaN</td>\n",
       "      <td>NaN</td>\n",
       "      <td>51.000000</td>\n",
       "      <td>2.800000</td>\n",
       "      <td>0.000000</td>\n",
       "      <td>NaN</td>\n",
       "      <td>NaN</td>\n",
       "      <td>NaN</td>\n",
       "      <td>NaN</td>\n",
       "    </tr>\n",
       "    <tr>\n",
       "      <th>1645</th>\n",
       "      <td>NaN</td>\n",
       "      <td>NaN</td>\n",
       "      <td>0.000000</td>\n",
       "      <td>0.005015</td>\n",
       "      <td>0.005015</td>\n",
       "      <td>NaN</td>\n",
       "      <td>NaN</td>\n",
       "      <td>51.000000</td>\n",
       "      <td>1.500000</td>\n",
       "      <td>0.000000</td>\n",
       "      <td>NaN</td>\n",
       "      <td>NaN</td>\n",
       "      <td>NaN</td>\n",
       "      <td>NaN</td>\n",
       "    </tr>\n",
       "    <tr>\n",
       "      <th>1792</th>\n",
       "      <td>NaN</td>\n",
       "      <td>NaN</td>\n",
       "      <td>0.001029</td>\n",
       "      <td>0.003086</td>\n",
       "      <td>0.011317</td>\n",
       "      <td>NaN</td>\n",
       "      <td>NaN</td>\n",
       "      <td>67.000000</td>\n",
       "      <td>2.100000</td>\n",
       "      <td>0.000000</td>\n",
       "      <td>NaN</td>\n",
       "      <td>NaN</td>\n",
       "      <td>NaN</td>\n",
       "      <td>NaN</td>\n",
       "    </tr>\n",
       "    <tr>\n",
       "      <th>1854</th>\n",
       "      <td>NaN</td>\n",
       "      <td>NaN</td>\n",
       "      <td>0.000000</td>\n",
       "      <td>0.006369</td>\n",
       "      <td>0.000796</td>\n",
       "      <td>NaN</td>\n",
       "      <td>NaN</td>\n",
       "      <td>51.000000</td>\n",
       "      <td>1.200000</td>\n",
       "      <td>0.000000</td>\n",
       "      <td>NaN</td>\n",
       "      <td>NaN</td>\n",
       "      <td>NaN</td>\n",
       "      <td>NaN</td>\n",
       "    </tr>\n",
       "    <tr>\n",
       "      <th>1863</th>\n",
       "      <td>NaN</td>\n",
       "      <td>NaN</td>\n",
       "      <td>0.000000</td>\n",
       "      <td>0.003257</td>\n",
       "      <td>0.000000</td>\n",
       "      <td>NaN</td>\n",
       "      <td>NaN</td>\n",
       "      <td>51.000000</td>\n",
       "      <td>1.000000</td>\n",
       "      <td>0.000000</td>\n",
       "      <td>NaN</td>\n",
       "      <td>NaN</td>\n",
       "      <td>NaN</td>\n",
       "      <td>NaN</td>\n",
       "    </tr>\n",
       "    <tr>\n",
       "      <th>1928</th>\n",
       "      <td>NaN</td>\n",
       "      <td>NaN</td>\n",
       "      <td>0.002976</td>\n",
       "      <td>0.004960</td>\n",
       "      <td>0.002976</td>\n",
       "      <td>NaN</td>\n",
       "      <td>NaN</td>\n",
       "      <td>63.000000</td>\n",
       "      <td>1.700000</td>\n",
       "      <td>5.000000</td>\n",
       "      <td>NaN</td>\n",
       "      <td>NaN</td>\n",
       "      <td>NaN</td>\n",
       "      <td>NaN</td>\n",
       "    </tr>\n",
       "    <tr>\n",
       "      <th>1934</th>\n",
       "      <td>NaN</td>\n",
       "      <td>NaN</td>\n",
       "      <td>0.003049</td>\n",
       "      <td>0.009146</td>\n",
       "      <td>0.003811</td>\n",
       "      <td>NaN</td>\n",
       "      <td>NaN</td>\n",
       "      <td>61.926728</td>\n",
       "      <td>2.500000</td>\n",
       "      <td>0.000000</td>\n",
       "      <td>NaN</td>\n",
       "      <td>NaN</td>\n",
       "      <td>NaN</td>\n",
       "      <td>NaN</td>\n",
       "    </tr>\n",
       "  </tbody>\n",
       "</table>\n",
       "</div>"
      ],
      "text/plain": [
       "      LB        AC        FM        UC        DL  DS  DP       ASTV      MSTV  \\\n",
       "50   NaN       NaN  0.000000  0.008086  0.000000 NaN NaN  29.000000  1.300000   \n",
       "116  NaN  0.038567  0.000000  0.006993  0.002331 NaN NaN  26.000000  4.300000   \n",
       "126  NaN       NaN  0.000000  0.004380  0.000000 NaN NaN  69.000000  0.300000   \n",
       "201  NaN       NaN  0.016393  0.000000  0.000000 NaN NaN  56.000000  0.500000   \n",
       "566  NaN       NaN  0.000000  0.004115  0.005487 NaN NaN  43.000000  2.500000   \n",
       "574  NaN       NaN  0.000000  0.002611  0.002611 NaN NaN  34.000000  4.900000   \n",
       "603  NaN       NaN  0.006519  0.001304  0.001304 NaN NaN  73.000000  0.700000   \n",
       "935  NaN       NaN  0.000000  0.005495  0.001374 NaN NaN  30.000000  1.251793   \n",
       "936  NaN       NaN  0.000000  0.007802  0.000000 NaN NaN  33.000000  1.000000   \n",
       "1013 NaN       NaN  0.000000  0.003861  0.000000 NaN NaN  34.000000  1.000000   \n",
       "1205 NaN       NaN -0.000129  0.006424  0.000000 NaN NaN  63.000000  0.500000   \n",
       "1332 NaN       NaN  0.010204  0.002551  0.005102 NaN NaN  27.000000  1.900000   \n",
       "1347 NaN       NaN  0.018519  0.003466  0.002315 NaN NaN  30.000000  2.100000   \n",
       "1430 NaN       NaN -0.001442  0.005038  0.000000 NaN NaN  42.000000  0.700000   \n",
       "1636 NaN       NaN  0.005650  0.004708  0.001883 NaN NaN  51.000000  2.800000   \n",
       "1645 NaN       NaN  0.000000  0.005015  0.005015 NaN NaN  51.000000  1.500000   \n",
       "1792 NaN       NaN  0.001029  0.003086  0.011317 NaN NaN  67.000000  2.100000   \n",
       "1854 NaN       NaN  0.000000  0.006369  0.000796 NaN NaN  51.000000  1.200000   \n",
       "1863 NaN       NaN  0.000000  0.003257  0.000000 NaN NaN  51.000000  1.000000   \n",
       "1928 NaN       NaN  0.002976  0.004960  0.002976 NaN NaN  63.000000  1.700000   \n",
       "1934 NaN       NaN  0.003049  0.009146  0.003811 NaN NaN  61.926728  2.500000   \n",
       "\n",
       "           ALTV  MLTV  Width  Tendency  NSP  \n",
       "50     0.000000   NaN    NaN       NaN  NaN  \n",
       "116    0.532872   NaN    NaN       NaN  NaN  \n",
       "126   21.000000   NaN    NaN       NaN  NaN  \n",
       "201   12.000000   NaN    NaN       NaN  NaN  \n",
       "566    0.000000   NaN    NaN       NaN  NaN  \n",
       "574    0.000000   NaN    NaN       NaN  NaN  \n",
       "603    0.000000   NaN    NaN       NaN  NaN  \n",
       "935    0.000000   NaN    NaN       NaN  NaN  \n",
       "936    0.000000   NaN    NaN       NaN  NaN  \n",
       "1013   0.000000   NaN    NaN       NaN  NaN  \n",
       "1205  35.000000   NaN    NaN       NaN  NaN  \n",
       "1332   0.000000   NaN    NaN       NaN  NaN  \n",
       "1347   0.000000   NaN    NaN       NaN  NaN  \n",
       "1430   0.000000   NaN    NaN       NaN  NaN  \n",
       "1636   0.000000   NaN    NaN       NaN  NaN  \n",
       "1645   0.000000   NaN    NaN       NaN  NaN  \n",
       "1792   0.000000   NaN    NaN       NaN  NaN  \n",
       "1854   0.000000   NaN    NaN       NaN  NaN  \n",
       "1863   0.000000   NaN    NaN       NaN  NaN  \n",
       "1928   5.000000   NaN    NaN       NaN  NaN  \n",
       "1934   0.000000   NaN    NaN       NaN  NaN  "
      ]
     },
     "execution_count": 3,
     "metadata": {},
     "output_type": "execute_result"
    }
   ],
   "source": [
    "#missing values\n",
    "df[df.isnull().any(axis=1)]"
   ]
  },
  {
   "cell_type": "code",
   "execution_count": 4,
   "id": "fefbf5fb-934b-4a5a-8028-73e35f48a65c",
   "metadata": {},
   "outputs": [
    {
     "data": {
      "text/plain": [
       "LB          21\n",
       "AC          20\n",
       "FM           0\n",
       "UC           0\n",
       "DL           0\n",
       "DS          21\n",
       "DP          21\n",
       "ASTV         0\n",
       "MSTV         0\n",
       "ALTV         0\n",
       "MLTV        21\n",
       "Width       21\n",
       "Tendency    21\n",
       "NSP         21\n",
       "dtype: int64"
      ]
     },
     "execution_count": 4,
     "metadata": {},
     "output_type": "execute_result"
    }
   ],
   "source": [
    "df.isnull().sum()"
   ]
  },
  {
   "cell_type": "code",
   "execution_count": 5,
   "id": "a3dfb08a-9420-4420-b500-164c7d461da9",
   "metadata": {},
   "outputs": [
    {
     "name": "stdout",
     "output_type": "stream",
     "text": [
      "133.3435983550352\n"
     ]
    }
   ],
   "source": [
    "#Handle missing values appropriately(LB)\n",
    "mean_LB = df[\"LB\"].mean()\n",
    "print(mean_LB)"
   ]
  },
  {
   "cell_type": "code",
   "execution_count": 6,
   "id": "ede3faff-8390-49fb-b138-514e0166a4bb",
   "metadata": {},
   "outputs": [],
   "source": [
    "#replacing missing values with mean\n",
    "df[\"LB\"] = df[\"LB\"].fillna(mean_LB) "
   ]
  },
  {
   "cell_type": "code",
   "execution_count": 7,
   "id": "24f985f7-c7a5-4de8-999c-202e498e267d",
   "metadata": {},
   "outputs": [
    {
     "name": "stdout",
     "output_type": "stream",
     "text": [
      "0.0032189782438000465\n"
     ]
    }
   ],
   "source": [
    "#Handle missing values appropriately(AC)\n",
    "mean_AC = df[\"AC\"].mean()\n",
    "print(mean_AC)"
   ]
  },
  {
   "cell_type": "code",
   "execution_count": 8,
   "id": "6e185080-8db2-4159-8291-581ebe4301d8",
   "metadata": {},
   "outputs": [],
   "source": [
    "#replacing missing values with mean\n",
    "df[\"AC\"] = df[\"AC\"].fillna(mean_AC)"
   ]
  },
  {
   "cell_type": "code",
   "execution_count": 9,
   "id": "c4672ca8-698e-4ab4-a5d7-21093732af7a",
   "metadata": {},
   "outputs": [
    {
     "name": "stdout",
     "output_type": "stream",
     "text": [
      "0.0\n"
     ]
    }
   ],
   "source": [
    "#Handle missing values appropriately(DS)\n",
    "median_DS = df[\"DS\"].median()\n",
    "print(median_DS)"
   ]
  },
  {
   "cell_type": "code",
   "execution_count": 10,
   "id": "f8f06642-db94-4132-8464-41c676dd5746",
   "metadata": {},
   "outputs": [],
   "source": [
    "#replacing missing values with median\n",
    "df[\"DS\"] = df[\"DS\"].fillna(median_DS)"
   ]
  },
  {
   "cell_type": "code",
   "execution_count": 11,
   "id": "76fc67f6-c08a-4a80-9fc0-5fb26be85c7e",
   "metadata": {},
   "outputs": [
    {
     "name": "stdout",
     "output_type": "stream",
     "text": [
      "0.0\n"
     ]
    }
   ],
   "source": [
    "#Handle missing values appropriately(DP)\n",
    "median_DP = df[\"DP\"].median()\n",
    "print(median_DS)"
   ]
  },
  {
   "cell_type": "code",
   "execution_count": 12,
   "id": "4f3ebae4-a6ed-400c-a118-1b8c51387aaa",
   "metadata": {},
   "outputs": [],
   "source": [
    "#replacing missing values with median\n",
    "df[\"DP\"] = df[\"DP\"].fillna(median_DS)"
   ]
  },
  {
   "cell_type": "code",
   "execution_count": 13,
   "id": "cf38d745-9606-4889-8f89-76ee78ad9f0f",
   "metadata": {},
   "outputs": [
    {
     "name": "stdout",
     "output_type": "stream",
     "text": [
      "8.28488742706321\n"
     ]
    }
   ],
   "source": [
    "#Handle missing values appropriately\n",
    "mean_MLTV = df[\"MLTV\"].mean()\n",
    "print(mean_MLTV)"
   ]
  },
  {
   "cell_type": "code",
   "execution_count": 14,
   "id": "25cbb677-fdad-47e7-a979-857189dfed8c",
   "metadata": {},
   "outputs": [],
   "source": [
    "#replacing missing values with mean\n",
    "df[\"MLTV\"] = df[\"MLTV\"].fillna(mean_MLTV)"
   ]
  },
  {
   "cell_type": "code",
   "execution_count": 15,
   "id": "2fecba64-0472-4e77-bd88-76923d301e4e",
   "metadata": {},
   "outputs": [
    {
     "name": "stdout",
     "output_type": "stream",
     "text": [
      "70.42926049411918\n"
     ]
    }
   ],
   "source": [
    "#Handle missing values appropriately\n",
    "mean_Width = df[\"Width\"].mean()\n",
    "print(mean_Width)"
   ]
  },
  {
   "cell_type": "code",
   "execution_count": 16,
   "id": "7173e416-3381-4803-9095-64955972009a",
   "metadata": {},
   "outputs": [],
   "source": [
    "#replacing missing values with mean\n",
    "df[\"Width\"] = df[\"Width\"].fillna(mean_Width)"
   ]
  },
  {
   "cell_type": "code",
   "execution_count": 17,
   "id": "c6e2185a-1b99-4cb0-b0df-bd3c02b385cf",
   "metadata": {},
   "outputs": [
    {
     "name": "stdout",
     "output_type": "stream",
     "text": [
      "0.3163714038702473\n"
     ]
    }
   ],
   "source": [
    "#Handle missing values appropriately\n",
    "mean_Tendency = df[\"Tendency\"].mean()\n",
    "print(mean_Tendency)"
   ]
  },
  {
   "cell_type": "code",
   "execution_count": 18,
   "id": "f94a4f5e-e55d-4efe-9083-e1f32efdc156",
   "metadata": {},
   "outputs": [],
   "source": [
    "#replacing missing values with mean\n",
    "df[\"Tendency\"] = df[\"Tendency\"].fillna(mean_Tendency)"
   ]
  },
  {
   "cell_type": "code",
   "execution_count": 19,
   "id": "fe46be7c-8759-408e-89a6-9e9c96ca5b82",
   "metadata": {},
   "outputs": [
    {
     "name": "stdout",
     "output_type": "stream",
     "text": [
      "1.304507175110962\n"
     ]
    }
   ],
   "source": [
    "#Handle missing values appropriately\n",
    "mean_NSP = df[\"NSP\"].mean()\n",
    "print(mean_NSP)"
   ]
  },
  {
   "cell_type": "code",
   "execution_count": 20,
   "id": "3699b783-42b0-425a-9efb-4e9fb758862f",
   "metadata": {},
   "outputs": [],
   "source": [
    "#replacing missing values with mean\n",
    "df[\"NSP\"] = df[\"NSP\"].fillna(mean_NSP)"
   ]
  },
  {
   "cell_type": "code",
   "execution_count": 21,
   "id": "75b6f54d-7087-47bd-b8e2-d5fe66a42ddb",
   "metadata": {},
   "outputs": [
    {
     "data": {
      "text/html": [
       "<div>\n",
       "<style scoped>\n",
       "    .dataframe tbody tr th:only-of-type {\n",
       "        vertical-align: middle;\n",
       "    }\n",
       "\n",
       "    .dataframe tbody tr th {\n",
       "        vertical-align: top;\n",
       "    }\n",
       "\n",
       "    .dataframe thead th {\n",
       "        text-align: right;\n",
       "    }\n",
       "</style>\n",
       "<table border=\"1\" class=\"dataframe\">\n",
       "  <thead>\n",
       "    <tr style=\"text-align: right;\">\n",
       "      <th></th>\n",
       "      <th>LB</th>\n",
       "      <th>AC</th>\n",
       "      <th>FM</th>\n",
       "      <th>UC</th>\n",
       "      <th>DL</th>\n",
       "      <th>DS</th>\n",
       "      <th>DP</th>\n",
       "      <th>ASTV</th>\n",
       "      <th>MSTV</th>\n",
       "      <th>ALTV</th>\n",
       "      <th>MLTV</th>\n",
       "      <th>Width</th>\n",
       "      <th>Tendency</th>\n",
       "      <th>NSP</th>\n",
       "    </tr>\n",
       "  </thead>\n",
       "  <tbody>\n",
       "  </tbody>\n",
       "</table>\n",
       "</div>"
      ],
      "text/plain": [
       "Empty DataFrame\n",
       "Columns: [LB, AC, FM, UC, DL, DS, DP, ASTV, MSTV, ALTV, MLTV, Width, Tendency, NSP]\n",
       "Index: []"
      ]
     },
     "execution_count": 21,
     "metadata": {},
     "output_type": "execute_result"
    }
   ],
   "source": [
    "#missing values\n",
    "df[df.isnull().any(axis=1)]"
   ]
  },
  {
   "cell_type": "code",
   "execution_count": 22,
   "id": "7c186f71-5d6c-4741-990e-a95fa3804a7d",
   "metadata": {},
   "outputs": [
    {
     "data": {
      "text/plain": [
       "LB          0\n",
       "AC          0\n",
       "FM          0\n",
       "UC          0\n",
       "DL          0\n",
       "DS          0\n",
       "DP          0\n",
       "ASTV        0\n",
       "MSTV        0\n",
       "ALTV        0\n",
       "MLTV        0\n",
       "Width       0\n",
       "Tendency    0\n",
       "NSP         0\n",
       "dtype: int64"
      ]
     },
     "execution_count": 22,
     "metadata": {},
     "output_type": "execute_result"
    }
   ],
   "source": [
    "df.isnull().sum()"
   ]
  },
  {
   "cell_type": "code",
   "execution_count": 23,
   "id": "6cc95314-8a80-4457-9335-ccc911af949e",
   "metadata": {},
   "outputs": [
    {
     "data": {
      "text/plain": [
       "LB          float64\n",
       "AC          float64\n",
       "FM          float64\n",
       "UC          float64\n",
       "DL          float64\n",
       "DS          float64\n",
       "DP          float64\n",
       "ASTV        float64\n",
       "MSTV        float64\n",
       "ALTV        float64\n",
       "MLTV        float64\n",
       "Width       float64\n",
       "Tendency    float64\n",
       "NSP         float64\n",
       "dtype: object"
      ]
     },
     "execution_count": 23,
     "metadata": {},
     "output_type": "execute_result"
    }
   ],
   "source": [
    "#Identify and correct any inconsistencies in data types (e.g., numerical values stored as strings).\n",
    "df.dtypes"
   ]
  },
  {
   "cell_type": "code",
   "execution_count": 24,
   "id": "dd9bf73b-be1a-432f-ad88-5cf88463d6bc",
   "metadata": {},
   "outputs": [
    {
     "name": "stdout",
     "output_type": "stream",
     "text": [
      "14.0\n",
      "161.0\n",
      "105.0\n"
     ]
    }
   ],
   "source": [
    "#Detect and treat outliers if necessary.\n",
    "import numpy as np\n",
    "Q1 = np.percentile(df[\"LB\"],25)\n",
    "Q3 = np.percentile(df[\"LB\"],75)\n",
    "IQR = Q3 - Q1  #Inter-Quartile Range\n",
    "print(IQR)    \n",
    "UW = Q3 + (1.5 * IQR)   #Upper whisker length\n",
    "LW = Q1 - (1.5 * IQR)   #Lower whisker length\n",
    "print(UW)\n",
    "print(LW)"
   ]
  },
  {
   "cell_type": "code",
   "execution_count": 25,
   "id": "592e9d3b-249c-4e9a-ae89-f9099d3a0048",
   "metadata": {},
   "outputs": [
    {
     "name": "stdout",
     "output_type": "stream",
     "text": [
      "Number of outliers present in LB Column :  6\n",
      "Number of outliers present in LB Column :  4\n"
     ]
    }
   ],
   "source": [
    "print(\"Number of outliers present in LB Column : \",len(df[df[\"LB\"]>UW]))\n",
    "print(\"Number of outliers present in LB Column : \",len(df[df[\"LB\"]<LW]))"
   ]
  },
  {
   "cell_type": "code",
   "execution_count": 30,
   "id": "60f535e7-d3e7-40a0-ab56-1f2515feb1d8",
   "metadata": {},
   "outputs": [],
   "source": [
    "#Replacing the outlier values with nearest whisker length\n",
    "df[df[\"LB\"]>UW] = UW\n",
    "df[df[\"LB\"]<LW] = LW"
   ]
  },
  {
   "cell_type": "code",
   "execution_count": 31,
   "id": "b5f775e1-767e-4f42-9178-bd714e2a23db",
   "metadata": {},
   "outputs": [
    {
     "name": "stdout",
     "output_type": "stream",
     "text": [
      "Number of outliers present in LB Column :  0\n",
      "Number of outliers present in LB Column :  0\n"
     ]
    }
   ],
   "source": [
    "print(\"Number of outliers present in LB Column : \",len(df[df[\"LB\"]>UW]))\n",
    "print(\"Number of outliers present in LB Column : \",len(df[df[\"LB\"]<LW]))"
   ]
  },
  {
   "cell_type": "code",
   "execution_count": 32,
   "id": "f98d8eb1-ebe8-4856-b4c0-05476831a955",
   "metadata": {},
   "outputs": [
    {
     "data": {
      "text/plain": [
       "<Axes: >"
      ]
     },
     "execution_count": 32,
     "metadata": {},
     "output_type": "execute_result"
    },
    {
     "data": {
      "image/png": "[encoded data removed]",
      "text/plain": [
       "<Figure size 640x480 with 1 Axes>"
      ]
     },
     "metadata": {},
     "output_type": "display_data"
    }
   ],
   "source": [
    "df[\"LB\"].plot(kind=\"box\",vert=False)"
   ]
  },
  {
   "cell_type": "code",
   "execution_count": 33,
   "id": "0897d1c6-5e35-4593-96c0-47d16884c0e5",
   "metadata": {},
   "outputs": [
    {
     "name": "stdout",
     "output_type": "stream",
     "text": [
      "0.00565451125\n",
      "0.014136278124999999\n",
      "-0.008481766875\n"
     ]
    }
   ],
   "source": [
    "#Detect and treat outliers if necessary.\n",
    "import numpy as np\n",
    "Q1 = np.percentile(df[\"AC\"],25)\n",
    "Q3 = np.percentile(df[\"AC\"],75)\n",
    "IQR = Q3 - Q1  #Inter-Quartile Range\n",
    "print(IQR)    \n",
    "UW = Q3 + (1.5 * IQR)   #Upper whisker length\n",
    "LW = Q1 - (1.5 * IQR)   #Lower whisker length\n",
    "print(UW)\n",
    "print(LW)"
   ]
  },
  {
   "cell_type": "code",
   "execution_count": 34,
   "id": "b90ba82e-d811-4029-91d3-b967e84f088f",
   "metadata": {},
   "outputs": [
    {
     "name": "stdout",
     "output_type": "stream",
     "text": [
      "Number of outliers present in AC Column :  46\n",
      "Number of outliers present in AC Column :  4\n"
     ]
    }
   ],
   "source": [
    "print(\"Number of outliers present in AC Column : \",len(df[df[\"AC\"]>UW]))\n",
    "print(\"Number of outliers present in AC Column : \",len(df[df[\"AC\"]<LW]))"
   ]
  },
  {
   "cell_type": "code",
   "execution_count": 35,
   "id": "4b94b9e6-1096-4999-937d-79fab99d850e",
   "metadata": {},
   "outputs": [],
   "source": [
    "#Replacing the outlier values with nearest whisker length\n",
    "df[df[\"AC\"]>UW] = UW\n",
    "df[df[\"AC\"]<LW] = LW"
   ]
  },
  {
   "cell_type": "code",
   "execution_count": 36,
   "id": "3f9afb17-3396-4d8b-ba11-a201573992ce",
   "metadata": {},
   "outputs": [
    {
     "name": "stdout",
     "output_type": "stream",
     "text": [
      "Number of outliers present in AC Column :  0\n",
      "Number of outliers present in AC Column :  0\n"
     ]
    }
   ],
   "source": [
    "print(\"Number of outliers present in AC Column : \",len(df[df[\"AC\"]>UW]))\n",
    "print(\"Number of outliers present in AC Column : \",len(df[df[\"AC\"]<LW]))"
   ]
  },
  {
   "cell_type": "code",
   "execution_count": 37,
   "id": "1f1ba375-e9bc-40fb-998f-be91d29238c5",
   "metadata": {},
   "outputs": [
    {
     "data": {
      "text/plain": [
       "<Axes: >"
      ]
     },
     "execution_count": 37,
     "metadata": {},
     "output_type": "execute_result"
    },
    {
     "data": {
      "image/png": "[encoded data removed]",
      "text/plain": [
       "<Figure size 640x480 with 1 Axes>"
      ]
     },
     "metadata": {},
     "output_type": "display_data"
    }
   ],
   "source": [
    "df[\"AC\"].plot(kind=\"box\",vert=False)"
   ]
  },
  {
   "cell_type": "code",
   "execution_count": 38,
   "id": "a7111413-5255-4af5-b920-75a3e7ee7873",
   "metadata": {},
   "outputs": [
    {
     "name": "stdout",
     "output_type": "stream",
     "text": [
      "0.00292725525\n",
      "0.007318138125\n",
      "-0.004390882875\n"
     ]
    }
   ],
   "source": [
    "#Detect and treat outliers if necessary.\n",
    "import numpy as np\n",
    "Q1 = np.percentile(df[\"FM\"],25)\n",
    "Q3 = np.percentile(df[\"FM\"],75)\n",
    "IQR = Q3 - Q1  #Inter-Quartile Range\n",
    "print(IQR)    \n",
    "UW = Q3 + (1.5 * IQR)   #Upper whisker length\n",
    "LW = Q1 - (1.5 * IQR)   #Lower whisker length\n",
    "print(UW)\n",
    "print(LW)"
   ]
  },
  {
   "cell_type": "code",
   "execution_count": 39,
   "id": "d9480130-29a2-49d6-b01e-91bc5df6a2aa",
   "metadata": {},
   "outputs": [
    {
     "name": "stdout",
     "output_type": "stream",
     "text": [
      "Number of outliers present in FM Column :  344\n",
      "Number of outliers present in FM Column :  11\n"
     ]
    }
   ],
   "source": [
    "print(\"Number of outliers present in FM Column : \",len(df[df[\"FM\"]>UW]))\n",
    "print(\"Number of outliers present in FM Column : \",len(df[df[\"FM\"]<LW]))"
   ]
  },
  {
   "cell_type": "code",
   "execution_count": 40,
   "id": "1394055e-8f3b-4922-8c68-efed8a05d1c0",
   "metadata": {},
   "outputs": [],
   "source": [
    "#Replacing the outlier values with nearest whisker length\n",
    "df[df[\"FM\"]>UW] = UW\n",
    "df[df[\"FM\"]<LW] = LW"
   ]
  },
  {
   "cell_type": "code",
   "execution_count": 41,
   "id": "27aadc12-febb-4ad4-b583-6d49aeaeb068",
   "metadata": {},
   "outputs": [
    {
     "name": "stdout",
     "output_type": "stream",
     "text": [
      "Number of outliers present in FM Column :  0\n",
      "Number of outliers present in FM Column :  0\n"
     ]
    }
   ],
   "source": [
    "print(\"Number of outliers present in FM Column : \",len(df[df[\"FM\"]>UW]))\n",
    "print(\"Number of outliers present in FM Column : \",len(df[df[\"FM\"]<LW]))"
   ]
  },
  {
   "cell_type": "code",
   "execution_count": 42,
   "id": "fd5550dd-a4ed-466d-9d9b-2367ebe403be",
   "metadata": {},
   "outputs": [
    {
     "data": {
      "text/plain": [
       "<Axes: >"
      ]
     },
     "execution_count": 42,
     "metadata": {},
     "output_type": "execute_result"
    },
    {
     "data": {
      "image/png": "[encoded data removed]",
      "text/plain": [
       "<Figure size 640x480 with 1 Axes>"
      ]
     },
     "metadata": {},
     "output_type": "display_data"
    }
   ],
   "source": [
    "df[\"FM\"].plot(kind=\"box\",vert=False)"
   ]
  },
  {
   "cell_type": "code",
   "execution_count": 43,
   "id": "9376a66b-88e2-4290-a4d5-99e490923c83",
   "metadata": {},
   "outputs": [
    {
     "name": "stdout",
     "output_type": "stream",
     "text": [
      "0.004339726875\n",
      "0.013827728437499999\n",
      "-0.0035311790624999997\n"
     ]
    }
   ],
   "source": [
    "#Detect and treat outliers if necessary.\n",
    "import numpy as np\n",
    "Q1 = np.percentile(df[\"UC\"],25)\n",
    "Q3 = np.percentile(df[\"UC\"],75)\n",
    "IQR = Q3 - Q1  #Inter-Quartile Range\n",
    "print(IQR)    \n",
    "UW = Q3 + (1.5 * IQR)   #Upper whisker length\n",
    "LW = Q1 - (1.5 * IQR)   #Lower whisker length\n",
    "print(UW)\n",
    "print(LW)"
   ]
  },
  {
   "cell_type": "code",
   "execution_count": 44,
   "id": "6a254ef5-da05-46a6-a9a2-994d39156720",
   "metadata": {},
   "outputs": [
    {
     "name": "stdout",
     "output_type": "stream",
     "text": [
      "Number of outliers present in UC Column :  8\n",
      "Number of outliers present in UC Column :  15\n"
     ]
    }
   ],
   "source": [
    "print(\"Number of outliers present in UC Column : \",len(df[df[\"UC\"]>UW]))\n",
    "print(\"Number of outliers present in UC Column : \",len(df[df[\"UC\"]<LW]))"
   ]
  },
  {
   "cell_type": "code",
   "execution_count": 45,
   "id": "ae5d4f81-aa2e-418b-aec9-2207f958825b",
   "metadata": {},
   "outputs": [],
   "source": [
    "#Replacing the outlier values with nearest whisker length\n",
    "df[df[\"UC\"]>UW] = UW\n",
    "df[df[\"UC\"]<LW] = LW"
   ]
  },
  {
   "cell_type": "code",
   "execution_count": 46,
   "id": "85624b07-b296-4f1f-bf12-0bd8d1439c8e",
   "metadata": {},
   "outputs": [
    {
     "name": "stdout",
     "output_type": "stream",
     "text": [
      "Number of outliers present in UC Column :  0\n",
      "Number of outliers present in UC Column :  0\n"
     ]
    }
   ],
   "source": [
    "print(\"Number of outliers present in UC Column : \",len(df[df[\"UC\"]>UW]))\n",
    "print(\"Number of outliers present in UC Column : \",len(df[df[\"UC\"]<LW]))"
   ]
  },
  {
   "cell_type": "code",
   "execution_count": 47,
   "id": "cc9da3df-6d7f-4359-9ce8-a177d5838d79",
   "metadata": {},
   "outputs": [
    {
     "data": {
      "text/plain": [
       "<Axes: >"
      ]
     },
     "execution_count": 47,
     "metadata": {},
     "output_type": "execute_result"
    },
    {
     "data": {
      "image/png": "[encoded data removed]",
      "text/plain": [
       "<Figure size 640x480 with 1 Axes>"
      ]
     },
     "metadata": {},
     "output_type": "display_data"
    }
   ],
   "source": [
    "df[\"UC\"].plot(kind=\"box\",vert=False)"
   ]
  },
  {
   "cell_type": "code",
   "execution_count": 48,
   "id": "d3f0f48f-e825-4a4b-9a04-b8dadca50ddc",
   "metadata": {},
   "outputs": [
    {
     "name": "stdout",
     "output_type": "stream",
     "text": [
      "0.00655892725\n",
      "0.016397318125\n",
      "-0.009838390875\n"
     ]
    }
   ],
   "source": [
    "#Detect and treat outliers if necessary.\n",
    "import numpy as np\n",
    "Q1 = np.percentile(df[\"DL\"],25)\n",
    "Q3 = np.percentile(df[\"DL\"],75)\n",
    "IQR = Q3 - Q1  #Inter-Quartile Range\n",
    "print(IQR)    \n",
    "UW = Q3 + (1.5 * IQR)   #Upper whisker length\n",
    "LW = Q1 - (1.5 * IQR)   #Lower whisker length\n",
    "print(UW)\n",
    "print(LW)"
   ]
  },
  {
   "cell_type": "code",
   "execution_count": 49,
   "id": "48d04fb1-5ba6-471d-a1a7-80a3fd4edef3",
   "metadata": {},
   "outputs": [
    {
     "name": "stdout",
     "output_type": "stream",
     "text": [
      "Number of outliers present in DL Column :  2\n",
      "Number of outliers present in DL Column :  6\n"
     ]
    }
   ],
   "source": [
    "print(\"Number of outliers present in DL Column : \",len(df[df[\"DL\"]>UW]))\n",
    "print(\"Number of outliers present in DL Column : \",len(df[df[\"DL\"]<LW]))"
   ]
  },
  {
   "cell_type": "code",
   "execution_count": 50,
   "id": "dee5bfa3-2be9-4f11-956c-76e2292e3be5",
   "metadata": {},
   "outputs": [],
   "source": [
    "#Replacing the outlier values with nearest whisker length\n",
    "df[df[\"DL\"]>UW] = UW\n",
    "df[df[\"DL\"]<LW] = LW"
   ]
  },
  {
   "cell_type": "code",
   "execution_count": 51,
   "id": "24d60da8-9ddb-4eb5-8fb0-ffb4777127a2",
   "metadata": {},
   "outputs": [
    {
     "name": "stdout",
     "output_type": "stream",
     "text": [
      "Number of outliers present in DL Column :  0\n",
      "Number of outliers present in DL Column :  0\n"
     ]
    }
   ],
   "source": [
    "print(\"Number of outliers present in DL Column : \",len(df[df[\"DL\"]>UW]))\n",
    "print(\"Number of outliers present in DL Column : \",len(df[df[\"DL\"]<LW]))"
   ]
  },
  {
   "cell_type": "code",
   "execution_count": 52,
   "id": "6a8d52b9-cf31-45d8-b3ae-bf466747e32c",
   "metadata": {},
   "outputs": [
    {
     "data": {
      "text/plain": [
       "<Axes: >"
      ]
     },
     "execution_count": 52,
     "metadata": {},
     "output_type": "execute_result"
    },
    {
     "data": {
      "image/png": "[encoded data removed]",
      "text/plain": [
       "<Figure size 640x480 with 1 Axes>"
      ]
     },
     "metadata": {},
     "output_type": "display_data"
    }
   ],
   "source": [
    "df[\"DL\"].plot(kind=\"box\",vert=False)"
   ]
  },
  {
   "cell_type": "code",
   "execution_count": 53,
   "id": "9ff45a4b-4ec3-4dfb-bb2d-4e6090bbca5f",
   "metadata": {},
   "outputs": [
    {
     "name": "stdout",
     "output_type": "stream",
     "text": [
      "0.0\n",
      "0.0\n",
      "0.0\n"
     ]
    }
   ],
   "source": [
    "#Detect and treat outliers if necessary.\n",
    "import numpy as np\n",
    "Q1 = np.percentile(df[\"DS\"],25)\n",
    "Q3 = np.percentile(df[\"DS\"],75)\n",
    "IQR = Q3 - Q1  #Inter-Quartile Range\n",
    "print(IQR)    \n",
    "UW = Q3 + (1.5 * IQR)   #Upper whisker length\n",
    "LW = Q1 - (1.5 * IQR)   #Lower whisker length\n",
    "print(UW)\n",
    "print(LW)"
   ]
  },
  {
   "cell_type": "code",
   "execution_count": 54,
   "id": "02a9eba7-ef1b-4d22-b01d-658303e27cdd",
   "metadata": {},
   "outputs": [
    {
     "name": "stdout",
     "output_type": "stream",
     "text": [
      "Number of outliers present in DS Column :  413\n",
      "Number of outliers present in DS Column :  65\n"
     ]
    }
   ],
   "source": [
    "print(\"Number of outliers present in DS Column : \",len(df[df[\"DS\"]>UW]))\n",
    "print(\"Number of outliers present in DS Column : \",len(df[df[\"DS\"]<LW]))"
   ]
  },
  {
   "cell_type": "code",
   "execution_count": 55,
   "id": "c6ef1c73-f236-4a61-aee6-4ef1cbd00113",
   "metadata": {},
   "outputs": [],
   "source": [
    "#Replacing the outlier values with nearest whisker length\n",
    "df[df[\"DS\"]>UW] = UW\n",
    "df[df[\"DS\"]<LW] = LW"
   ]
  },
  {
   "cell_type": "code",
   "execution_count": 56,
   "id": "4d11b38b-7cbd-4e92-9a8d-5e792d2b870a",
   "metadata": {},
   "outputs": [
    {
     "name": "stdout",
     "output_type": "stream",
     "text": [
      "Number of outliers present in DS Column :  0\n",
      "Number of outliers present in DS Column :  0\n"
     ]
    }
   ],
   "source": [
    "print(\"Number of outliers present in DS Column : \",len(df[df[\"DS\"]>UW]))\n",
    "print(\"Number of outliers present in DS Column : \",len(df[df[\"DS\"]<LW]))"
   ]
  },
  {
   "cell_type": "code",
   "execution_count": 57,
   "id": "ba268d0e-9c3a-4acb-83fc-10d86d4a3c18",
   "metadata": {},
   "outputs": [
    {
     "data": {
      "text/plain": [
       "<Axes: >"
      ]
     },
     "execution_count": 57,
     "metadata": {},
     "output_type": "execute_result"
    },
    {
     "data": {
      "image/png": "[encoded data removed]",
      "text/plain": [
       "<Figure size 640x480 with 1 Axes>"
      ]
     },
     "metadata": {},
     "output_type": "display_data"
    }
   ],
   "source": [
    "df[\"DS\"].plot(kind=\"box\",vert=False)"
   ]
  },
  {
   "cell_type": "code",
   "execution_count": 58,
   "id": "00f4ea46-0845-4cc9-8e8f-a94b4ae01e32",
   "metadata": {},
   "outputs": [
    {
     "name": "stdout",
     "output_type": "stream",
     "text": [
      "0.0\n",
      "0.0\n",
      "0.0\n"
     ]
    }
   ],
   "source": [
    "#Detect and treat outliers if necessary.\n",
    "import numpy as np\n",
    "Q1 = np.percentile(df[\"DP\"],25)\n",
    "Q3 = np.percentile(df[\"DP\"],75)\n",
    "IQR = Q3 - Q1  #Inter-Quartile Range\n",
    "print(IQR)    \n",
    "UW = Q3 + (1.5 * IQR)   #Upper whisker length\n",
    "LW = Q1 - (1.5 * IQR)   #Lower whisker length\n",
    "print(UW)\n",
    "print(LW)"
   ]
  },
  {
   "cell_type": "code",
   "execution_count": 59,
   "id": "7a976241-3b95-41fc-8a5e-06cf794810eb",
   "metadata": {},
   "outputs": [
    {
     "name": "stdout",
     "output_type": "stream",
     "text": [
      "Number of outliers present in DP Column :  165\n",
      "Number of outliers present in DP Column :  41\n"
     ]
    }
   ],
   "source": [
    "print(\"Number of outliers present in DP Column : \",len(df[df[\"DP\"]>UW]))\n",
    "print(\"Number of outliers present in DP Column : \",len(df[df[\"DP\"]<LW]))"
   ]
  },
  {
   "cell_type": "code",
   "execution_count": 60,
   "id": "9e959a61-9438-4c58-b189-018e49ed5ae3",
   "metadata": {},
   "outputs": [],
   "source": [
    "#Replacing the outlier values with nearest whisker length\n",
    "df[df[\"DP\"]>UW] = UW\n",
    "df[df[\"DP\"]<LW] = LW"
   ]
  },
  {
   "cell_type": "code",
   "execution_count": 61,
   "id": "b8ce4efa-1e43-4a42-a09b-144c83a8ecf4",
   "metadata": {},
   "outputs": [
    {
     "name": "stdout",
     "output_type": "stream",
     "text": [
      "Number of outliers present in DP Column :  0\n",
      "Number of outliers present in DP Column :  0\n"
     ]
    }
   ],
   "source": [
    "print(\"Number of outliers present in DP Column : \",len(df[df[\"DP\"]>UW]))\n",
    "print(\"Number of outliers present in DP Column : \",len(df[df[\"DP\"]<LW]))"
   ]
  },
  {
   "cell_type": "code",
   "execution_count": 62,
   "id": "017b3046-abbe-4646-9a9c-dc098aa7d591",
   "metadata": {},
   "outputs": [
    {
     "data": {
      "text/plain": [
       "<Axes: >"
      ]
     },
     "execution_count": 62,
     "metadata": {},
     "output_type": "execute_result"
    },
    {
     "data": {
      "image/png": "[encoded data removed]",
      "text/plain": [
       "<Figure size 640x480 with 1 Axes>"
      ]
     },
     "metadata": {},
     "output_type": "display_data"
    }
   ],
   "source": [
    "df[\"DP\"].plot(kind=\"box\",vert=False)"
   ]
  },
  {
   "cell_type": "code",
   "execution_count": 63,
   "id": "43c593c8-311b-46ed-9b07-f2a6314a74e1",
   "metadata": {},
   "outputs": [
    {
     "name": "stdout",
     "output_type": "stream",
     "text": [
      "55.0\n",
      "137.5\n",
      "-82.5\n"
     ]
    }
   ],
   "source": [
    "#Detect and treat outliers if necessary.\n",
    "import numpy as np\n",
    "Q1 = np.percentile(df[\"ASTV\"],25)\n",
    "Q3 = np.percentile(df[\"ASTV\"],75)\n",
    "IQR = Q3 - Q1  #Inter-Quartile Range\n",
    "print(IQR)    \n",
    "UW = Q3 + (1.5 * IQR)   #Upper whisker length\n",
    "LW = Q1 - (1.5 * IQR)   #Lower whisker length\n",
    "print(UW)\n",
    "print(LW)"
   ]
  },
  {
   "cell_type": "code",
   "execution_count": 64,
   "id": "1998c05d-a373-4a2a-b5f1-e95d9672567b",
   "metadata": {},
   "outputs": [
    {
     "name": "stdout",
     "output_type": "stream",
     "text": [
      "Number of outliers present in ASTV Column :  5\n",
      "Number of outliers present in ASTV Column :  0\n"
     ]
    }
   ],
   "source": [
    "print(\"Number of outliers present in ASTV Column : \",len(df[df[\"ASTV\"]>UW]))\n",
    "print(\"Number of outliers present in ASTV Column : \",len(df[df[\"ASTV\"]<LW]))"
   ]
  },
  {
   "cell_type": "code",
   "execution_count": 65,
   "id": "88a13510-ef6b-4d6f-9e2b-c353019eb8a9",
   "metadata": {},
   "outputs": [],
   "source": [
    "#Replacing the outlier values with nearest whisker length\n",
    "df[df[\"ASTV\"]>UW] = UW\n",
    "df[df[\"ASTV\"]<LW] = LW"
   ]
  },
  {
   "cell_type": "code",
   "execution_count": 66,
   "id": "879bef47-9e87-40d1-b3c7-d5be00360d8a",
   "metadata": {},
   "outputs": [
    {
     "name": "stdout",
     "output_type": "stream",
     "text": [
      "Number of outliers present in ASTV Column :  0\n",
      "Number of outliers present in ASTV Column :  0\n"
     ]
    }
   ],
   "source": [
    "print(\"Number of outliers present in ASTV Column : \",len(df[df[\"ASTV\"]>UW]))\n",
    "print(\"Number of outliers present in ASTV Column : \",len(df[df[\"ASTV\"]<LW]))"
   ]
  },
  {
   "cell_type": "code",
   "execution_count": 67,
   "id": "1ade3dee-ed74-4e4c-acf8-11fbc95bf9d5",
   "metadata": {},
   "outputs": [
    {
     "data": {
      "text/plain": [
       "<Axes: >"
      ]
     },
     "execution_count": 67,
     "metadata": {},
     "output_type": "execute_result"
    },
    {
     "data": {
      "image/png": "[encoded data removed]",
      "text/plain": [
       "<Figure size 640x480 with 1 Axes>"
      ]
     },
     "metadata": {},
     "output_type": "display_data"
    }
   ],
   "source": [
    "df[\"ASTV\"].plot(kind=\"box\",vert=False)"
   ]
  },
  {
   "cell_type": "code",
   "execution_count": 68,
   "id": "9846e578-f6ec-4559-91fe-95b6ba4e7569",
   "metadata": {},
   "outputs": [
    {
     "name": "stdout",
     "output_type": "stream",
     "text": [
      "1.3\n",
      "3.25\n",
      "-1.9500000000000002\n"
     ]
    }
   ],
   "source": [
    "#Detect and treat outliers if necessary.\n",
    "import numpy as np\n",
    "Q1 = np.percentile(df[\"MSTV\"],25)\n",
    "Q3 = np.percentile(df[\"MSTV\"],75)\n",
    "IQR = Q3 - Q1  #Inter-Quartile Range\n",
    "print(IQR)    \n",
    "UW = Q3 + (1.5 * IQR)   #Upper whisker length\n",
    "LW = Q1 - (1.5 * IQR)   #Lower whisker length\n",
    "print(UW)\n",
    "print(LW)"
   ]
  },
  {
   "cell_type": "code",
   "execution_count": 69,
   "id": "f92eb297-601f-4f46-9023-dcb23676bc88",
   "metadata": {},
   "outputs": [
    {
     "name": "stdout",
     "output_type": "stream",
     "text": [
      "Number of outliers present in MSTV Column :  44\n",
      "Number of outliers present in MSTV Column :  2\n"
     ]
    }
   ],
   "source": [
    "print(\"Number of outliers present in MSTV Column : \",len(df[df[\"MSTV\"]>UW]))\n",
    "print(\"Number of outliers present in MSTV Column : \",len(df[df[\"MSTV\"]<LW]))"
   ]
  },
  {
   "cell_type": "code",
   "execution_count": 70,
   "id": "208bfd64-878c-4ce0-b6c9-7a377824f95f",
   "metadata": {},
   "outputs": [],
   "source": [
    "#Replacing the outlier values with nearest whisker length\n",
    "df[df[\"MSTV\"]>UW] = UW\n",
    "df[df[\"MSTV\"]<LW] = LW"
   ]
  },
  {
   "cell_type": "code",
   "execution_count": 71,
   "id": "e10bfa4e-1b30-4883-87eb-1e72584fd3f5",
   "metadata": {},
   "outputs": [
    {
     "name": "stdout",
     "output_type": "stream",
     "text": [
      "Number of outliers present in MSTV Column :  0\n",
      "Number of outliers present in MSTV Column :  0\n"
     ]
    }
   ],
   "source": [
    "print(\"Number of outliers present in MSTV Column : \",len(df[df[\"MSTV\"]>UW]))\n",
    "print(\"Number of outliers present in MSTV Column : \",len(df[df[\"MSTV\"]<LW]))"
   ]
  },
  {
   "cell_type": "code",
   "execution_count": 72,
   "id": "cd5dc8bb-86e7-426b-97e9-257fae4ad8cc",
   "metadata": {},
   "outputs": [
    {
     "data": {
      "text/plain": [
       "<Axes: >"
      ]
     },
     "execution_count": 72,
     "metadata": {},
     "output_type": "execute_result"
    },
    {
     "data": {
      "image/png": "[encoded data removed]",
      "text/plain": [
       "<Figure size 640x480 with 1 Axes>"
      ]
     },
     "metadata": {},
     "output_type": "display_data"
    }
   ],
   "source": [
    "df[\"MSTV\"].plot(kind=\"box\",vert=False)"
   ]
  },
  {
   "cell_type": "code",
   "execution_count": 73,
   "id": "d65498c4-c531-4163-bb7d-ba41e8020d11",
   "metadata": {},
   "outputs": [
    {
     "name": "stdout",
     "output_type": "stream",
     "text": [
      "5.0\n",
      "12.5\n",
      "-7.5\n"
     ]
    }
   ],
   "source": [
    "#Detect and treat outliers if necessary.\n",
    "import numpy as np\n",
    "Q1 = np.percentile(df[\"ALTV\"],25)\n",
    "Q3 = np.percentile(df[\"ALTV\"],75)\n",
    "IQR = Q3 - Q1  #Inter-Quartile Range\n",
    "print(IQR)    \n",
    "UW = Q3 + (1.5 * IQR)   #Upper whisker length\n",
    "LW = Q1 - (1.5 * IQR)   #Lower whisker length\n",
    "print(UW)\n",
    "print(LW)"
   ]
  },
  {
   "cell_type": "code",
   "execution_count": 74,
   "id": "c53a055b-f89e-4c04-a961-daf32164ec02",
   "metadata": {},
   "outputs": [
    {
     "name": "stdout",
     "output_type": "stream",
     "text": [
      "Number of outliers present in ALTV Column :  371\n",
      "Number of outliers present in ALTV Column :  2\n"
     ]
    }
   ],
   "source": [
    "print(\"Number of outliers present in ALTV Column : \",len(df[df[\"ALTV\"]>UW]))\n",
    "print(\"Number of outliers present in ALTV Column : \",len(df[df[\"ALTV\"]<LW]))"
   ]
  },
  {
   "cell_type": "code",
   "execution_count": 75,
   "id": "6705e644-8152-441e-b22a-3fd2fecf4f22",
   "metadata": {},
   "outputs": [],
   "source": [
    "#Replacing the outlier values with nearest whisker length\n",
    "df[df[\"ALTV\"]>UW] = UW\n",
    "df[df[\"ALTV\"]<LW] = LW"
   ]
  },
  {
   "cell_type": "code",
   "execution_count": 76,
   "id": "82968413-5adb-473e-b4b4-1d4dabc0b893",
   "metadata": {},
   "outputs": [
    {
     "name": "stdout",
     "output_type": "stream",
     "text": [
      "Number of outliers present in ALTV Column :  0\n",
      "Number of outliers present in ALTV Column :  0\n"
     ]
    }
   ],
   "source": [
    "print(\"Number of outliers present in ALTV Column : \",len(df[df[\"ALTV\"]>UW]))\n",
    "print(\"Number of outliers present in ALTV Column : \",len(df[df[\"ALTV\"]<LW]))"
   ]
  },
  {
   "cell_type": "code",
   "execution_count": 77,
   "id": "6659212d-4eba-4e4d-a7ab-9e116c72473e",
   "metadata": {},
   "outputs": [
    {
     "data": {
      "text/plain": [
       "<Axes: >"
      ]
     },
     "execution_count": 77,
     "metadata": {},
     "output_type": "execute_result"
    },
    {
     "data": {
      "image/png": "[encoded data removed]",
      "text/plain": [
       "<Figure size 640x480 with 1 Axes>"
      ]
     },
     "metadata": {},
     "output_type": "display_data"
    }
   ],
   "source": [
    "df[\"ALTV\"].plot(kind=\"box\",vert=False)"
   ]
  },
  {
   "cell_type": "code",
   "execution_count": 78,
   "id": "caeacf98-59ef-423b-aa3b-d51269c979f5",
   "metadata": {},
   "outputs": [
    {
     "name": "stdout",
     "output_type": "stream",
     "text": [
      "12.5\n",
      "31.25\n",
      "-18.75\n"
     ]
    }
   ],
   "source": [
    "#Detect and treat outliers if necessary.\n",
    "import numpy as np\n",
    "Q1 = np.percentile(df[\"MLTV\"],25)\n",
    "Q3 = np.percentile(df[\"MLTV\"],75)\n",
    "IQR = Q3 - Q1  #Inter-Quartile Range\n",
    "print(IQR)    \n",
    "UW = Q3 + (1.5 * IQR)   #Upper whisker length\n",
    "LW = Q1 - (1.5 * IQR)   #Lower whisker length\n",
    "print(UW)\n",
    "print(LW)"
   ]
  },
  {
   "cell_type": "code",
   "execution_count": 79,
   "id": "f504b3bb-7285-4fad-b3e5-b23d15a01426",
   "metadata": {},
   "outputs": [
    {
     "name": "stdout",
     "output_type": "stream",
     "text": [
      "Number of outliers present in MLTV Column :  5\n",
      "Number of outliers present in MLTV Column :  1\n"
     ]
    }
   ],
   "source": [
    "print(\"Number of outliers present in MLTV Column : \",len(df[df[\"MLTV\"]>UW]))\n",
    "print(\"Number of outliers present in MLTV Column : \",len(df[df[\"MLTV\"]<LW]))"
   ]
  },
  {
   "cell_type": "code",
   "execution_count": 80,
   "id": "72e3051a-ece2-4385-933a-935685d602d6",
   "metadata": {},
   "outputs": [],
   "source": [
    "#Replacing the outlier values with nearest whisker length\n",
    "df[df[\"MLTV\"]>UW] = UW\n",
    "df[df[\"MLTV\"]<LW] = LW"
   ]
  },
  {
   "cell_type": "code",
   "execution_count": 81,
   "id": "a67a3775-d634-4c40-b32f-57eb32511dda",
   "metadata": {},
   "outputs": [
    {
     "name": "stdout",
     "output_type": "stream",
     "text": [
      "Number of outliers present in MLTV Column :  0\n",
      "Number of outliers present in MLTV Column :  0\n"
     ]
    }
   ],
   "source": [
    "print(\"Number of outliers present in MLTV Column : \",len(df[df[\"MLTV\"]>UW]))\n",
    "print(\"Number of outliers present in MLTV Column : \",len(df[df[\"MLTV\"]<LW]))"
   ]
  },
  {
   "cell_type": "code",
   "execution_count": 82,
   "id": "e6cacdde-a2af-40aa-bc58-2c6a70e18e84",
   "metadata": {},
   "outputs": [
    {
     "data": {
      "text/plain": [
       "<Axes: >"
      ]
     },
     "execution_count": 82,
     "metadata": {},
     "output_type": "execute_result"
    },
    {
     "data": {
      "image/png": "[encoded data removed]",
      "text/plain": [
       "<Figure size 640x480 with 1 Axes>"
      ]
     },
     "metadata": {},
     "output_type": "display_data"
    }
   ],
   "source": [
    "df[\"MLTV\"].plot(kind=\"box\",vert=False)"
   ]
  },
  {
   "cell_type": "code",
   "execution_count": 83,
   "id": "1a6637b6-a2e4-4163-a244-7ffda4dec29c",
   "metadata": {},
   "outputs": [
    {
     "name": "stdout",
     "output_type": "stream",
     "text": [
      "66.0\n",
      "165.0\n",
      "-99.0\n"
     ]
    }
   ],
   "source": [
    "#Detect and treat outliers if necessary.\n",
    "import numpy as np\n",
    "Q1 = np.percentile(df[\"Width\"],25)\n",
    "Q3 = np.percentile(df[\"Width\"],75)\n",
    "IQR = Q3 - Q1  #Inter-Quartile Range\n",
    "print(IQR)    \n",
    "UW = Q3 + (1.5 * IQR)   #Upper whisker length\n",
    "LW = Q1 - (1.5 * IQR)   #Lower whisker length\n",
    "print(UW)\n",
    "print(LW)"
   ]
  },
  {
   "cell_type": "code",
   "execution_count": 84,
   "id": "bd857f78-9230-4f14-939b-6c963786b5b0",
   "metadata": {},
   "outputs": [
    {
     "name": "stdout",
     "output_type": "stream",
     "text": [
      "Number of outliers present in Width Column :  5\n",
      "Number of outliers present in Width Column :  3\n"
     ]
    }
   ],
   "source": [
    "print(\"Number of outliers present in Width Column : \",len(df[df[\"Width\"]>UW]))\n",
    "print(\"Number of outliers present in Width Column : \",len(df[df[\"Width\"]<LW]))"
   ]
  },
  {
   "cell_type": "code",
   "execution_count": 85,
   "id": "a5bf5c40-e3bf-4c2d-ab78-66038ff80a73",
   "metadata": {},
   "outputs": [],
   "source": [
    "#Replacing the outlier values with nearest whisker length\n",
    "df[df[\"Width\"]>UW] = UW\n",
    "df[df[\"Width\"]<LW] = LW"
   ]
  },
  {
   "cell_type": "code",
   "execution_count": 86,
   "id": "3cb15527-cd60-4b96-be73-f513ef265d43",
   "metadata": {},
   "outputs": [
    {
     "name": "stdout",
     "output_type": "stream",
     "text": [
      "Number of outliers present in Width Column :  0\n",
      "Number of outliers present in Width Column :  0\n"
     ]
    }
   ],
   "source": [
    "print(\"Number of outliers present in Width Column : \",len(df[df[\"Width\"]>UW]))\n",
    "print(\"Number of outliers present in Width Column : \",len(df[df[\"Width\"]<LW]))"
   ]
  },
  {
   "cell_type": "code",
   "execution_count": 87,
   "id": "c9e458e2-0835-4c33-82f6-1190d32a8c8f",
   "metadata": {},
   "outputs": [
    {
     "data": {
      "text/plain": [
       "<Axes: >"
      ]
     },
     "execution_count": 87,
     "metadata": {},
     "output_type": "execute_result"
    },
    {
     "data": {
      "image/png": "[encoded data removed]",
      "text/plain": [
       "<Figure size 640x480 with 1 Axes>"
      ]
     },
     "metadata": {},
     "output_type": "display_data"
    }
   ],
   "source": [
    "df[\"Width\"].plot(kind=\"box\",vert=False)"
   ]
  },
  {
   "cell_type": "code",
   "execution_count": 88,
   "id": "b575a383-54ed-40e7-81a3-edb179490939",
   "metadata": {},
   "outputs": [
    {
     "name": "stdout",
     "output_type": "stream",
     "text": [
      "1.0\n",
      "2.5\n",
      "-1.5\n"
     ]
    }
   ],
   "source": [
    "#Detect and treat outliers if necessary.\n",
    "import numpy as np\n",
    "Q1 = np.percentile(df[\"Tendency\"],25)\n",
    "Q3 = np.percentile(df[\"Tendency\"],75)\n",
    "IQR = Q3 - Q1  #Inter-Quartile Range\n",
    "print(IQR)    \n",
    "UW = Q3 + (1.5 * IQR)   #Upper whisker length\n",
    "LW = Q1 - (1.5 * IQR)   #Lower whisker length\n",
    "print(UW)\n",
    "print(LW)"
   ]
  },
  {
   "cell_type": "code",
   "execution_count": 89,
   "id": "d4fdfc19-3780-43e1-94d1-384a9cda6f44",
   "metadata": {},
   "outputs": [
    {
     "name": "stdout",
     "output_type": "stream",
     "text": [
      "Number of outliers present in Tendency Column :  427\n",
      "Number of outliers present in Tendency Column :  10\n"
     ]
    }
   ],
   "source": [
    "print(\"Number of outliers present in Tendency Column : \",len(df[df[\"Tendency\"]>UW]))\n",
    "print(\"Number of outliers present in Tendency Column : \",len(df[df[\"Tendency\"]<LW]))"
   ]
  },
  {
   "cell_type": "code",
   "execution_count": 90,
   "id": "2a2f6afc-601e-4671-8ec6-1e97f3ad5cde",
   "metadata": {},
   "outputs": [],
   "source": [
    "#Replacing the outlier values with nearest whisker length\n",
    "df[df[\"Tendency\"]>UW] = UW\n",
    "df[df[\"Tendency\"]<LW] = LW"
   ]
  },
  {
   "cell_type": "code",
   "execution_count": 91,
   "id": "83f5d9be-8ae5-48c2-ba58-ebe1b1f2f4b9",
   "metadata": {},
   "outputs": [
    {
     "name": "stdout",
     "output_type": "stream",
     "text": [
      "Number of outliers present in Tendency Column :  0\n",
      "Number of outliers present in Tendency Column :  0\n"
     ]
    }
   ],
   "source": [
    "print(\"Number of outliers present in Tendency Column : \",len(df[df[\"Tendency\"]>UW]))\n",
    "print(\"Number of outliers present in Tendency Column : \",len(df[df[\"Tendency\"]<LW]))"
   ]
  },
  {
   "cell_type": "code",
   "execution_count": 92,
   "id": "533b966b-4ddd-4ecd-b0ff-1e739d7bd989",
   "metadata": {},
   "outputs": [
    {
     "data": {
      "text/plain": [
       "<Axes: >"
      ]
     },
     "execution_count": 92,
     "metadata": {},
     "output_type": "execute_result"
    },
    {
     "data": {
      "image/png": "[encoded data removed]",
      "text/plain": [
       "<Figure size 640x480 with 1 Axes>"
      ]
     },
     "metadata": {},
     "output_type": "display_data"
    }
   ],
   "source": [
    "df[\"Tendency\"].plot(kind=\"box\",vert=False)"
   ]
  },
  {
   "cell_type": "code",
   "execution_count": 93,
   "id": "135f3ff7-2b01-4769-a5f9-8b4fb9a182fa",
   "metadata": {},
   "outputs": [
    {
     "name": "stdout",
     "output_type": "stream",
     "text": [
      "1.0\n",
      "2.5\n",
      "-1.5\n"
     ]
    }
   ],
   "source": [
    "#Detect and treat outliers if necessary.\n",
    "import numpy as np\n",
    "Q1 = np.percentile(df[\"NSP\"],25)\n",
    "Q3 = np.percentile(df[\"NSP\"],75)\n",
    "IQR = Q3 - Q1  #Inter-Quartile Range\n",
    "print(IQR)    \n",
    "UW = Q3 + (1.5 * IQR)   #Upper whisker length\n",
    "LW = Q1 - (1.5 * IQR)   #Lower whisker length\n",
    "print(UW)\n",
    "print(LW)"
   ]
  },
  {
   "cell_type": "code",
   "execution_count": 94,
   "id": "8970ae50-f428-405a-a691-6f506c5830c5",
   "metadata": {},
   "outputs": [
    {
     "name": "stdout",
     "output_type": "stream",
     "text": [
      "Number of outliers present in NSP Column :  11\n",
      "Number of outliers present in NSP Column :  0\n"
     ]
    }
   ],
   "source": [
    "print(\"Number of outliers present in NSP Column : \",len(df[df[\"NSP\"]>UW]))\n",
    "print(\"Number of outliers present in NSP Column : \",len(df[df[\"NSP\"]<LW]))"
   ]
  },
  {
   "cell_type": "code",
   "execution_count": 95,
   "id": "5a2ee0a1-998e-46c1-b2bd-e0931f24eae3",
   "metadata": {},
   "outputs": [],
   "source": [
    "#Replacing the outlier values with nearest whisker length\n",
    "df[df[\"NSP\"]>UW] = UW\n",
    "df[df[\"NSP\"]<LW] = LW"
   ]
  },
  {
   "cell_type": "code",
   "execution_count": 96,
   "id": "6fa1b2ba-533e-400f-aa49-cf5fb2a10544",
   "metadata": {},
   "outputs": [
    {
     "name": "stdout",
     "output_type": "stream",
     "text": [
      "Number of outliers present in NSP Column :  0\n",
      "Number of outliers present in NSP Column :  0\n"
     ]
    }
   ],
   "source": [
    "print(\"Number of outliers present in NSP Column : \",len(df[df[\"NSP\"]>UW]))\n",
    "print(\"Number of outliers present in NSP Column : \",len(df[df[\"NSP\"]<LW]))"
   ]
  },
  {
   "cell_type": "code",
   "execution_count": 97,
   "id": "c53c7b80-c6af-4345-88ef-d9c6d895ca27",
   "metadata": {},
   "outputs": [
    {
     "data": {
      "text/plain": [
       "<Axes: >"
      ]
     },
     "execution_count": 97,
     "metadata": {},
     "output_type": "execute_result"
    },
    {
     "data": {
      "image/png": "[encoded data removed]",
      "text/plain": [
       "<Figure size 640x480 with 1 Axes>"
      ]
     },
     "metadata": {},
     "output_type": "display_data"
    }
   ],
   "source": [
    "df[\"NSP\"].plot(kind=\"box\",vert=False)"
   ]
  },
  {
   "cell_type": "markdown",
   "id": "82877340-8aa5-46c0-beff-206399f8119c",
   "metadata": {},
   "source": [
    "#### 2.Statistical Summary:"
   ]
  },
  {
   "cell_type": "code",
   "execution_count": 106,
   "id": "1ac4eba8-5bea-4947-87f2-6939209a0953",
   "metadata": {},
   "outputs": [],
   "source": [
    "# Calculate the statistical summary\n",
    "summary_stats = pd.DataFrame({\n",
    "    \"Mean\": df.mean(),\n",
    "    \"Median\": df.median(),\n",
    "    \"Std Deviation\": df.std(),\n",
    "    \"IQR\": df.quantile(0.75) - df.quantile(0.25)})"
   ]
  },
  {
   "cell_type": "code",
   "execution_count": 107,
   "id": "008e222f-7abe-4ef8-98af-1d908168978c",
   "metadata": {},
   "outputs": [
    {
     "name": "stdout",
     "output_type": "stream",
     "text": [
      "               Mean    Median  Std Deviation         IQR\n",
      "LB        62.393673  2.500000      65.909230  132.000000\n",
      "AC         0.509851  0.001712       1.019199    0.009863\n",
      "FM         0.508341  0.000000       1.019948    0.003295\n",
      "UC         0.510274  0.004067       1.018988    0.008429\n",
      "DL         0.508872  0.000000       1.019684    0.006126\n",
      "DS         0.507996  0.000000       1.020119    0.000000\n",
      "DP         0.507996  0.000000       1.020119    0.000000\n",
      "ASTV      20.218597  2.500000      23.313882   39.000000\n",
      "MSTV       1.135869  1.100000       1.007295    2.200000\n",
      "ALTV       1.269318  0.000000       2.351909    2.500000\n",
      "MLTV       4.779143  2.500000       5.594591    8.300000\n",
      "Width     33.480853  2.500000      40.892786   64.000000\n",
      "Tendency   0.680816  0.000000       1.027852    1.000000\n",
      "NSP        0.998674  1.000000       0.919418    1.000000\n"
     ]
    }
   ],
   "source": [
    "print(summary_stats)"
   ]
  },
  {
   "cell_type": "markdown",
   "id": "6b33e60a-95cd-4dd3-bf5a-3153bae28e86",
   "metadata": {},
   "source": [
    "#### 3.Data Visualization:"
   ]
  },
  {
   "cell_type": "markdown",
   "id": "d8697bb2-b711-4caa-8c05-2f6648c171ba",
   "metadata": {},
   "source": [
    "Histogram"
   ]
  },
  {
   "cell_type": "code",
   "execution_count": 116,
   "id": "23b79ac1-3b1c-49f9-8e4d-5937e06cdb71",
   "metadata": {},
   "outputs": [
    {
     "data": {
      "image/png": "[encoded data removed]",
      "text/plain": [
       "<Figure size 640x480 with 1 Axes>"
      ]
     },
     "metadata": {},
     "output_type": "display_data"
    }
   ],
   "source": [
    "import matplotlib.pyplot as plt\n",
    "df[\"LB\"].plot(kind=\"hist\")\n",
    "plt.title('Histogram of LB')\n",
    "plt.show()"
   ]
  },
  {
   "cell_type": "code",
   "execution_count": 118,
   "id": "d40ed524-8945-4200-babe-66336db19dc1",
   "metadata": {},
   "outputs": [
    {
     "data": {
      "image/png": "[encoded data removed]",
      "text/plain": [
       "<Figure size 640x480 with 1 Axes>"
      ]
     },
     "metadata": {},
     "output_type": "display_data"
    }
   ],
   "source": [
    "df[\"AC\"].plot(kind=\"hist\")\n",
    "plt.title('Histogram of AC')\n",
    "plt.show()"
   ]
  },
  {
   "cell_type": "code",
   "execution_count": 119,
   "id": "97cb4a59-c43e-4d05-a06f-b155748a009c",
   "metadata": {},
   "outputs": [
    {
     "data": {
      "image/png": "[encoded data removed]",
      "text/plain": [
       "<Figure size 640x480 with 1 Axes>"
      ]
     },
     "metadata": {},
     "output_type": "display_data"
    }
   ],
   "source": [
    "df[\"FM\"].plot(kind=\"hist\")\n",
    "plt.title('Histogram of FM')\n",
    "plt.show()"
   ]
  },
  {
   "cell_type": "code",
   "execution_count": 120,
   "id": "24b24165-455b-4166-bb89-62bcbf04c73b",
   "metadata": {},
   "outputs": [
    {
     "data": {
      "image/png": "[encoded data removed]",
      "text/plain": [
       "<Figure size 640x480 with 1 Axes>"
      ]
     },
     "metadata": {},
     "output_type": "display_data"
    }
   ],
   "source": [
    "df[\"UC\"].plot(kind=\"hist\")\n",
    "plt.title('Histogram of UC')\n",
    "plt.show()"
   ]
  },
  {
   "cell_type": "code",
   "execution_count": 121,
   "id": "cfe41bc1-2700-4101-b6c2-94b28c1d3829",
   "metadata": {},
   "outputs": [
    {
     "data": {
      "image/png": "[encoded data removed]",
      "text/plain": [
       "<Figure size 640x480 with 1 Axes>"
      ]
     },
     "metadata": {},
     "output_type": "display_data"
    }
   ],
   "source": [
    "df[\"DL\"].plot(kind=\"hist\")\n",
    "plt.title('Histogram of DL')\n",
    "plt.show()"
   ]
  },
  {
   "cell_type": "code",
   "execution_count": 122,
   "id": "dfee8a55-0240-438c-8135-18300eb893b3",
   "metadata": {},
   "outputs": [
    {
     "data": {
      "image/png": "[encoded data removed]",
      "text/plain": [
       "<Figure size 640x480 with 1 Axes>"
      ]
     },
     "metadata": {},
     "output_type": "display_data"
    }
   ],
   "source": [
    "df[\"DS\"].plot(kind=\"hist\")\n",
    "plt.title('Histogram of DS')\n",
    "plt.show()"
   ]
  },
  {
   "cell_type": "code",
   "execution_count": 123,
   "id": "ff28465b-50af-4a2e-92ba-c72a15c3032d",
   "metadata": {},
   "outputs": [
    {
     "data": {
      "image/png": "[encoded data removed]",
      "text/plain": [
       "<Figure size 640x480 with 1 Axes>"
      ]
     },
     "metadata": {},
     "output_type": "display_data"
    }
   ],
   "source": [
    "df[\"DP\"].plot(kind=\"hist\")\n",
    "plt.title('Histogram of DP')\n",
    "plt.show()"
   ]
  },
  {
   "cell_type": "code",
   "execution_count": 124,
   "id": "d48fd8a1-b010-4dd6-a9dd-b92761ea1da7",
   "metadata": {},
   "outputs": [
    {
     "data": {
      "image/png": "[encoded data removed]",
      "text/plain": [
       "<Figure size 640x480 with 1 Axes>"
      ]
     },
     "metadata": {},
     "output_type": "display_data"
    }
   ],
   "source": [
    "df[\"ASTV\"].plot(kind=\"hist\")\n",
    "plt.title('Histogram of ASTV')\n",
    "plt.show()"
   ]
  },
  {
   "cell_type": "code",
   "execution_count": 125,
   "id": "dc756795-7ab4-477b-8745-d8ed3c05db70",
   "metadata": {},
   "outputs": [
    {
     "data": {
      "image/png": "[encoded data removed]",
      "text/plain": [
       "<Figure size 640x480 with 1 Axes>"
      ]
     },
     "metadata": {},
     "output_type": "display_data"
    }
   ],
   "source": [
    "df[\"MSTV\"].plot(kind=\"hist\")\n",
    "plt.title('Histogram of MSTV')\n",
    "plt.show()"
   ]
  },
  {
   "cell_type": "code",
   "execution_count": 126,
   "id": "f494449c-da8a-40f2-b89c-1b217e6de327",
   "metadata": {},
   "outputs": [
    {
     "data": {
      "image/png": "[encoded data removed]",
      "text/plain": [
       "<Figure size 640x480 with 1 Axes>"
      ]
     },
     "metadata": {},
     "output_type": "display_data"
    }
   ],
   "source": [
    "df[\"ALTV\"].plot(kind=\"hist\")\n",
    "plt.title('Histogram of ALTV')\n",
    "plt.show()"
   ]
  },
  {
   "cell_type": "code",
   "execution_count": 127,
   "id": "873ed427-f66c-4d66-acd2-8f91949f0602",
   "metadata": {},
   "outputs": [
    {
     "data": {
      "image/png": "[encoded data removed]",
      "text/plain": [
       "<Figure size 640x480 with 1 Axes>"
      ]
     },
     "metadata": {},
     "output_type": "display_data"
    }
   ],
   "source": [
    "df[\"Width\"].plot(kind=\"hist\")\n",
    "plt.title('Histogram of Width')\n",
    "plt.show()"
   ]
  },
  {
   "cell_type": "code",
   "execution_count": 128,
   "id": "dcc90f2a-30a3-4d01-a5be-457254b66574",
   "metadata": {},
   "outputs": [
    {
     "data": {
      "image/png": "[encoded data removed]",
      "text/plain": [
       "<Figure size 640x480 with 1 Axes>"
      ]
     },
     "metadata": {},
     "output_type": "display_data"
    }
   ],
   "source": [
    "df[\"Tendency\"].plot(kind=\"hist\")\n",
    "plt.title('Histogram of Tendency')\n",
    "plt.show()"
   ]
  },
  {
   "cell_type": "code",
   "execution_count": 129,
   "id": "5f9b4541-12e0-481a-845b-1e9a186d9e73",
   "metadata": {},
   "outputs": [
    {
     "data": {
      "image/png": "[encoded data removed]",
      "text/plain": [
       "<Figure size 640x480 with 1 Axes>"
      ]
     },
     "metadata": {},
     "output_type": "display_data"
    }
   ],
   "source": [
    "df[\"NSP\"].plot(kind=\"hist\")\n",
    "plt.title('Histogram of NSP')\n",
    "plt.show()"
   ]
  },
  {
   "cell_type": "code",
   "execution_count": 132,
   "id": "6e426811-a1ef-40f8-a942-fa4d2ce33d07",
   "metadata": {},
   "outputs": [],
   "source": [
    "import seaborn as sns"
   ]
  },
  {
   "cell_type": "code",
   "execution_count": 133,
   "id": "c285ad66-06a3-47bb-8bf8-b7a3dbd035e1",
   "metadata": {},
   "outputs": [
    {
     "data": {
      "text/html": [
       "<div>\n",
       "<style scoped>\n",
       "    .dataframe tbody tr th:only-of-type {\n",
       "        vertical-align: middle;\n",
       "    }\n",
       "\n",
       "    .dataframe tbody tr th {\n",
       "        vertical-align: top;\n",
       "    }\n",
       "\n",
       "    .dataframe thead th {\n",
       "        text-align: right;\n",
       "    }\n",
       "</style>\n",
       "<table border=\"1\" class=\"dataframe\">\n",
       "  <thead>\n",
       "    <tr style=\"text-align: right;\">\n",
       "      <th></th>\n",
       "      <th>LB</th>\n",
       "      <th>AC</th>\n",
       "      <th>FM</th>\n",
       "      <th>UC</th>\n",
       "      <th>DL</th>\n",
       "      <th>DS</th>\n",
       "      <th>DP</th>\n",
       "      <th>ASTV</th>\n",
       "      <th>MSTV</th>\n",
       "      <th>ALTV</th>\n",
       "      <th>MLTV</th>\n",
       "      <th>Width</th>\n",
       "      <th>Tendency</th>\n",
       "      <th>NSP</th>\n",
       "    </tr>\n",
       "  </thead>\n",
       "  <tbody>\n",
       "    <tr>\n",
       "      <th>LB</th>\n",
       "      <td>1.000000</td>\n",
       "      <td>-0.450789</td>\n",
       "      <td>-0.452034</td>\n",
       "      <td>-0.450458</td>\n",
       "      <td>-0.451612</td>\n",
       "      <td>-0.452320</td>\n",
       "      <td>-0.452320</td>\n",
       "      <td>0.891470</td>\n",
       "      <td>0.194443</td>\n",
       "      <td>0.162043</td>\n",
       "      <td>0.727304</td>\n",
       "      <td>0.847858</td>\n",
       "      <td>-0.259700</td>\n",
       "      <td>0.069740</td>\n",
       "    </tr>\n",
       "    <tr>\n",
       "      <th>AC</th>\n",
       "      <td>-0.450789</td>\n",
       "      <td>1.000000</td>\n",
       "      <td>0.999995</td>\n",
       "      <td>0.999995</td>\n",
       "      <td>0.999994</td>\n",
       "      <td>0.999995</td>\n",
       "      <td>0.999995</td>\n",
       "      <td>-0.376088</td>\n",
       "      <td>0.703292</td>\n",
       "      <td>0.272301</td>\n",
       "      <td>-0.197361</td>\n",
       "      <td>-0.375137</td>\n",
       "      <td>0.908939</td>\n",
       "      <td>0.844409</td>\n",
       "    </tr>\n",
       "    <tr>\n",
       "      <th>FM</th>\n",
       "      <td>-0.452034</td>\n",
       "      <td>0.999995</td>\n",
       "      <td>1.000000</td>\n",
       "      <td>0.999996</td>\n",
       "      <td>0.999998</td>\n",
       "      <td>0.999999</td>\n",
       "      <td>0.999999</td>\n",
       "      <td>-0.377020</td>\n",
       "      <td>0.702405</td>\n",
       "      <td>0.272488</td>\n",
       "      <td>-0.197843</td>\n",
       "      <td>-0.376409</td>\n",
       "      <td>0.908776</td>\n",
       "      <td>0.843808</td>\n",
       "    </tr>\n",
       "    <tr>\n",
       "      <th>UC</th>\n",
       "      <td>-0.450458</td>\n",
       "      <td>0.999995</td>\n",
       "      <td>0.999996</td>\n",
       "      <td>1.000000</td>\n",
       "      <td>0.999996</td>\n",
       "      <td>0.999996</td>\n",
       "      <td>0.999996</td>\n",
       "      <td>-0.375804</td>\n",
       "      <td>0.703517</td>\n",
       "      <td>0.272876</td>\n",
       "      <td>-0.196666</td>\n",
       "      <td>-0.375188</td>\n",
       "      <td>0.909015</td>\n",
       "      <td>0.844649</td>\n",
       "    </tr>\n",
       "    <tr>\n",
       "      <th>DL</th>\n",
       "      <td>-0.451612</td>\n",
       "      <td>0.999994</td>\n",
       "      <td>0.999998</td>\n",
       "      <td>0.999996</td>\n",
       "      <td>1.000000</td>\n",
       "      <td>0.999998</td>\n",
       "      <td>0.999998</td>\n",
       "      <td>-0.376798</td>\n",
       "      <td>0.703064</td>\n",
       "      <td>0.272367</td>\n",
       "      <td>-0.197778</td>\n",
       "      <td>-0.375706</td>\n",
       "      <td>0.908991</td>\n",
       "      <td>0.843998</td>\n",
       "    </tr>\n",
       "    <tr>\n",
       "      <th>DS</th>\n",
       "      <td>-0.452320</td>\n",
       "      <td>0.999995</td>\n",
       "      <td>0.999999</td>\n",
       "      <td>0.999996</td>\n",
       "      <td>0.999998</td>\n",
       "      <td>1.000000</td>\n",
       "      <td>1.000000</td>\n",
       "      <td>-0.377455</td>\n",
       "      <td>0.702182</td>\n",
       "      <td>0.272468</td>\n",
       "      <td>-0.198016</td>\n",
       "      <td>-0.376774</td>\n",
       "      <td>0.908709</td>\n",
       "      <td>0.843640</td>\n",
       "    </tr>\n",
       "    <tr>\n",
       "      <th>DP</th>\n",
       "      <td>-0.452320</td>\n",
       "      <td>0.999995</td>\n",
       "      <td>0.999999</td>\n",
       "      <td>0.999996</td>\n",
       "      <td>0.999998</td>\n",
       "      <td>1.000000</td>\n",
       "      <td>1.000000</td>\n",
       "      <td>-0.377455</td>\n",
       "      <td>0.702182</td>\n",
       "      <td>0.272468</td>\n",
       "      <td>-0.198016</td>\n",
       "      <td>-0.376774</td>\n",
       "      <td>0.908709</td>\n",
       "      <td>0.843640</td>\n",
       "    </tr>\n",
       "    <tr>\n",
       "      <th>ASTV</th>\n",
       "      <td>0.891470</td>\n",
       "      <td>-0.376088</td>\n",
       "      <td>-0.377020</td>\n",
       "      <td>-0.375804</td>\n",
       "      <td>-0.376798</td>\n",
       "      <td>-0.377455</td>\n",
       "      <td>-0.377455</td>\n",
       "      <td>1.000000</td>\n",
       "      <td>0.140847</td>\n",
       "      <td>0.193731</td>\n",
       "      <td>0.568757</td>\n",
       "      <td>0.754999</td>\n",
       "      <td>-0.198829</td>\n",
       "      <td>0.099373</td>\n",
       "    </tr>\n",
       "    <tr>\n",
       "      <th>MSTV</th>\n",
       "      <td>0.194443</td>\n",
       "      <td>0.703292</td>\n",
       "      <td>0.702405</td>\n",
       "      <td>0.703517</td>\n",
       "      <td>0.703064</td>\n",
       "      <td>0.702182</td>\n",
       "      <td>0.702182</td>\n",
       "      <td>0.140847</td>\n",
       "      <td>1.000000</td>\n",
       "      <td>0.249323</td>\n",
       "      <td>0.288535</td>\n",
       "      <td>0.298965</td>\n",
       "      <td>0.739977</td>\n",
       "      <td>0.876392</td>\n",
       "    </tr>\n",
       "    <tr>\n",
       "      <th>ALTV</th>\n",
       "      <td>0.162043</td>\n",
       "      <td>0.272301</td>\n",
       "      <td>0.272488</td>\n",
       "      <td>0.272876</td>\n",
       "      <td>0.272367</td>\n",
       "      <td>0.272468</td>\n",
       "      <td>0.272468</td>\n",
       "      <td>0.193731</td>\n",
       "      <td>0.249323</td>\n",
       "      <td>1.000000</td>\n",
       "      <td>0.218638</td>\n",
       "      <td>0.031067</td>\n",
       "      <td>0.308987</td>\n",
       "      <td>0.423094</td>\n",
       "    </tr>\n",
       "    <tr>\n",
       "      <th>MLTV</th>\n",
       "      <td>0.727304</td>\n",
       "      <td>-0.197361</td>\n",
       "      <td>-0.197843</td>\n",
       "      <td>-0.196666</td>\n",
       "      <td>-0.197778</td>\n",
       "      <td>-0.198016</td>\n",
       "      <td>-0.198016</td>\n",
       "      <td>0.568757</td>\n",
       "      <td>0.288535</td>\n",
       "      <td>0.218638</td>\n",
       "      <td>1.000000</td>\n",
       "      <td>0.642966</td>\n",
       "      <td>-0.055850</td>\n",
       "      <td>0.205937</td>\n",
       "    </tr>\n",
       "    <tr>\n",
       "      <th>Width</th>\n",
       "      <td>0.847858</td>\n",
       "      <td>-0.375137</td>\n",
       "      <td>-0.376409</td>\n",
       "      <td>-0.375188</td>\n",
       "      <td>-0.375706</td>\n",
       "      <td>-0.376774</td>\n",
       "      <td>-0.376774</td>\n",
       "      <td>0.754999</td>\n",
       "      <td>0.298965</td>\n",
       "      <td>0.031067</td>\n",
       "      <td>0.642966</td>\n",
       "      <td>1.000000</td>\n",
       "      <td>-0.159773</td>\n",
       "      <td>0.056605</td>\n",
       "    </tr>\n",
       "    <tr>\n",
       "      <th>Tendency</th>\n",
       "      <td>-0.259700</td>\n",
       "      <td>0.908939</td>\n",
       "      <td>0.908776</td>\n",
       "      <td>0.909015</td>\n",
       "      <td>0.908991</td>\n",
       "      <td>0.908709</td>\n",
       "      <td>0.908709</td>\n",
       "      <td>-0.198829</td>\n",
       "      <td>0.739977</td>\n",
       "      <td>0.308987</td>\n",
       "      <td>-0.055850</td>\n",
       "      <td>-0.159773</td>\n",
       "      <td>1.000000</td>\n",
       "      <td>0.846112</td>\n",
       "    </tr>\n",
       "    <tr>\n",
       "      <th>NSP</th>\n",
       "      <td>0.069740</td>\n",
       "      <td>0.844409</td>\n",
       "      <td>0.843808</td>\n",
       "      <td>0.844649</td>\n",
       "      <td>0.843998</td>\n",
       "      <td>0.843640</td>\n",
       "      <td>0.843640</td>\n",
       "      <td>0.099373</td>\n",
       "      <td>0.876392</td>\n",
       "      <td>0.423094</td>\n",
       "      <td>0.205937</td>\n",
       "      <td>0.056605</td>\n",
       "      <td>0.846112</td>\n",
       "      <td>1.000000</td>\n",
       "    </tr>\n",
       "  </tbody>\n",
       "</table>\n",
       "</div>"
      ],
      "text/plain": [
       "                LB        AC        FM        UC        DL        DS  \\\n",
       "LB        1.000000 -0.450789 -0.452034 -0.450458 -0.451612 -0.452320   \n",
       "AC       -0.450789  1.000000  0.999995  0.999995  0.999994  0.999995   \n",
       "FM       -0.452034  0.999995  1.000000  0.999996  0.999998  0.999999   \n",
       "UC       -0.450458  0.999995  0.999996  1.000000  0.999996  0.999996   \n",
       "DL       -0.451612  0.999994  0.999998  0.999996  1.000000  0.999998   \n",
       "DS       -0.452320  0.999995  0.999999  0.999996  0.999998  1.000000   \n",
       "DP       -0.452320  0.999995  0.999999  0.999996  0.999998  1.000000   \n",
       "ASTV      0.891470 -0.376088 -0.377020 -0.375804 -0.376798 -0.377455   \n",
       "MSTV      0.194443  0.703292  0.702405  0.703517  0.703064  0.702182   \n",
       "ALTV      0.162043  0.272301  0.272488  0.272876  0.272367  0.272468   \n",
       "MLTV      0.727304 -0.197361 -0.197843 -0.196666 -0.197778 -0.198016   \n",
       "Width     0.847858 -0.375137 -0.376409 -0.375188 -0.375706 -0.376774   \n",
       "Tendency -0.259700  0.908939  0.908776  0.909015  0.908991  0.908709   \n",
       "NSP       0.069740  0.844409  0.843808  0.844649  0.843998  0.843640   \n",
       "\n",
       "                DP      ASTV      MSTV      ALTV      MLTV     Width  \\\n",
       "LB       -0.452320  0.891470  0.194443  0.162043  0.727304  0.847858   \n",
       "AC        0.999995 -0.376088  0.703292  0.272301 -0.197361 -0.375137   \n",
       "FM        0.999999 -0.377020  0.702405  0.272488 -0.197843 -0.376409   \n",
       "UC        0.999996 -0.375804  0.703517  0.272876 -0.196666 -0.375188   \n",
       "DL        0.999998 -0.376798  0.703064  0.272367 -0.197778 -0.375706   \n",
       "DS        1.000000 -0.377455  0.702182  0.272468 -0.198016 -0.376774   \n",
       "DP        1.000000 -0.377455  0.702182  0.272468 -0.198016 -0.376774   \n",
       "ASTV     -0.377455  1.000000  0.140847  0.193731  0.568757  0.754999   \n",
       "MSTV      0.702182  0.140847  1.000000  0.249323  0.288535  0.298965   \n",
       "ALTV      0.272468  0.193731  0.249323  1.000000  0.218638  0.031067   \n",
       "MLTV     -0.198016  0.568757  0.288535  0.218638  1.000000  0.642966   \n",
       "Width    -0.376774  0.754999  0.298965  0.031067  0.642966  1.000000   \n",
       "Tendency  0.908709 -0.198829  0.739977  0.308987 -0.055850 -0.159773   \n",
       "NSP       0.843640  0.099373  0.876392  0.423094  0.205937  0.056605   \n",
       "\n",
       "          Tendency       NSP  \n",
       "LB       -0.259700  0.069740  \n",
       "AC        0.908939  0.844409  \n",
       "FM        0.908776  0.843808  \n",
       "UC        0.909015  0.844649  \n",
       "DL        0.908991  0.843998  \n",
       "DS        0.908709  0.843640  \n",
       "DP        0.908709  0.843640  \n",
       "ASTV     -0.198829  0.099373  \n",
       "MSTV      0.739977  0.876392  \n",
       "ALTV      0.308987  0.423094  \n",
       "MLTV     -0.055850  0.205937  \n",
       "Width    -0.159773  0.056605  \n",
       "Tendency  1.000000  0.846112  \n",
       "NSP       0.846112  1.000000  "
      ]
     },
     "execution_count": 133,
     "metadata": {},
     "output_type": "execute_result"
    }
   ],
   "source": [
    "corr = df.corr()\n",
    "corr"
   ]
  },
  {
   "cell_type": "code",
   "execution_count": 134,
   "id": "9adc63d4-56f0-41f8-9ab6-d3abff2356ab",
   "metadata": {},
   "outputs": [
    {
     "data": {
      "text/plain": [
       "<Axes: >"
      ]
     },
     "execution_count": 134,
     "metadata": {},
     "output_type": "execute_result"
    },
    {
     "data": {
      "image/png": "[encoded data removed]",
      "text/plain": [
       "<Figure size 640x480 with 2 Axes>"
      ]
     },
     "metadata": {},
     "output_type": "display_data"
    }
   ],
   "source": [
    "sns.heatmap(corr, cmap='coolwarm', annot=True)"
   ]
  },
  {
   "cell_type": "markdown",
   "id": "50d69710-76d0-47c0-99fc-5bd891683787",
   "metadata": {},
   "source": [
    "#### 4.Pattern Recognition and Insights:"
   ]
  },
  {
   "cell_type": "markdown",
   "id": "7bc268ad-134f-4620-97df-06bd958e4546",
   "metadata": {},
   "source": [
    "1. ASTV and NSP show a strong positive correlation. \n",
    "2.ALTV also has a moderately strong positive correlation with NSP and a strong positive correlation with ASTV.\n",
    "3.LB has high correlation with the variables \"ASTV and Width\".\n",
    "4.AC,FM,UC,DL,DS,DP are highly correlated with each other.\n",
    "5.ASTV is weakly correlated or not corelated with most of the variables.\n",
    "6.MSTV and NSP are moderately coorelated with rest of the variables."
   ]
  },
  {
   "cell_type": "markdown",
   "id": "ca8b81dd-868d-4b9f-bfbc-9b946555068f",
   "metadata": {},
   "source": [
    "#### 5.Conclusion"
   ]
  },
  {
   "cell_type": "markdown",
   "id": "b5c428cf-54c6-4de5-a226-aad0ecd574ce",
   "metadata": {},
   "source": [
    "Key Insights and Patterns\n",
    "The exploratory analysis focused on identifying correlations between different variables, as the dataset did not contain temporal information. \n",
    "A correlation heatmap was used to visualize these relationships,\n",
    "1.There are strong positive correlations between ASTV and ALTV with NSP. \n",
    "2.A moderate negative correlation was found between AC and NSP.\n",
    "3.There is a moderate positive correlation between DL and MSTV, and also with the Histogram Width.\n",
    "    \n",
    "Impact on Decision-Making:\n",
    "Model Building: These findings are crucial for developing predictive models. \n",
    "Variables like ASTV, ALTV, and AC are strong predictors of the NSP and should be prioritized when building a model to assess fetal risk.\n",
    "Clinical Relevance: The correlations support existing clinical knowledge in cardiotocography. \n",
    "Clinicians can use these findings to focus on key indicators of fetal health. \n",
    "For example, a high ASTV or ALTV value could be a flag for further investigation or intervention."
   ]
  }
 ],
 "metadata": {
  "kernelspec": {
   "display_name": "Python [conda env:base] *",
   "language": "python",
   "name": "conda-base-py"
  },
  "language_info": {
   "codemirror_mode": {
    "name": "ipython",
    "version": 3
   },
   "file_extension": ".py",
   "mimetype": "text/x-python",
   "name": "python",
   "nbconvert_exporter": "python",
   "pygments_lexer": "ipython3",
   "version": "3.12.7"
  }
 },
 "nbformat": 4,
 "nbformat_minor": 5
}
