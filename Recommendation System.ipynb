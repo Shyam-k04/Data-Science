{
 "cells": [
  {
   "cell_type": "code",
   "execution_count": 1,
   "id": "1372c8a4-4ce7-401d-b34e-8699eb657dc4",
   "metadata": {},
   "outputs": [
    {
     "data": {
      "text/html": [
       "<div>\n",
       "<style scoped>\n",
       "    .dataframe tbody tr th:only-of-type {\n",
       "        vertical-align: middle;\n",
       "    }\n",
       "\n",
       "    .dataframe tbody tr th {\n",
       "        vertical-align: top;\n",
       "    }\n",
       "\n",
       "    .dataframe thead th {\n",
       "        text-align: right;\n",
       "    }\n",
       "</style>\n",
       "<table border=\"1\" class=\"dataframe\">\n",
       "  <thead>\n",
       "    <tr style=\"text-align: right;\">\n",
       "      <th></th>\n",
       "      <th>anime_id</th>\n",
       "      <th>name</th>\n",
       "      <th>genre</th>\n",
       "      <th>type</th>\n",
       "      <th>episodes</th>\n",
       "      <th>rating</th>\n",
       "      <th>members</th>\n",
       "    </tr>\n",
       "  </thead>\n",
       "  <tbody>\n",
       "    <tr>\n",
       "      <th>0</th>\n",
       "      <td>32281</td>\n",
       "      <td>Kimi no Na wa.</td>\n",
       "      <td>Drama, Romance, School, Supernatural</td>\n",
       "      <td>Movie</td>\n",
       "      <td>1</td>\n",
       "      <td>9.37</td>\n",
       "      <td>200630</td>\n",
       "    </tr>\n",
       "    <tr>\n",
       "      <th>1</th>\n",
       "      <td>5114</td>\n",
       "      <td>Fullmetal Alchemist: Brotherhood</td>\n",
       "      <td>Action, Adventure, Drama, Fantasy, Magic, Mili...</td>\n",
       "      <td>TV</td>\n",
       "      <td>64</td>\n",
       "      <td>9.26</td>\n",
       "      <td>793665</td>\n",
       "    </tr>\n",
       "    <tr>\n",
       "      <th>2</th>\n",
       "      <td>28977</td>\n",
       "      <td>Gintama°</td>\n",
       "      <td>Action, Comedy, Historical, Parody, Samurai, S...</td>\n",
       "      <td>TV</td>\n",
       "      <td>51</td>\n",
       "      <td>9.25</td>\n",
       "      <td>114262</td>\n",
       "    </tr>\n",
       "    <tr>\n",
       "      <th>3</th>\n",
       "      <td>9253</td>\n",
       "      <td>Steins;Gate</td>\n",
       "      <td>Sci-Fi, Thriller</td>\n",
       "      <td>TV</td>\n",
       "      <td>24</td>\n",
       "      <td>9.17</td>\n",
       "      <td>673572</td>\n",
       "    </tr>\n",
       "    <tr>\n",
       "      <th>4</th>\n",
       "      <td>9969</td>\n",
       "      <td>Gintama&amp;#039;</td>\n",
       "      <td>Action, Comedy, Historical, Parody, Samurai, S...</td>\n",
       "      <td>TV</td>\n",
       "      <td>51</td>\n",
       "      <td>9.16</td>\n",
       "      <td>151266</td>\n",
       "    </tr>\n",
       "    <tr>\n",
       "      <th>...</th>\n",
       "      <td>...</td>\n",
       "      <td>...</td>\n",
       "      <td>...</td>\n",
       "      <td>...</td>\n",
       "      <td>...</td>\n",
       "      <td>...</td>\n",
       "      <td>...</td>\n",
       "    </tr>\n",
       "    <tr>\n",
       "      <th>12289</th>\n",
       "      <td>9316</td>\n",
       "      <td>Toushindai My Lover: Minami tai Mecha-Minami</td>\n",
       "      <td>Hentai</td>\n",
       "      <td>OVA</td>\n",
       "      <td>1</td>\n",
       "      <td>4.15</td>\n",
       "      <td>211</td>\n",
       "    </tr>\n",
       "    <tr>\n",
       "      <th>12290</th>\n",
       "      <td>5543</td>\n",
       "      <td>Under World</td>\n",
       "      <td>Hentai</td>\n",
       "      <td>OVA</td>\n",
       "      <td>1</td>\n",
       "      <td>4.28</td>\n",
       "      <td>183</td>\n",
       "    </tr>\n",
       "    <tr>\n",
       "      <th>12291</th>\n",
       "      <td>5621</td>\n",
       "      <td>Violence Gekiga David no Hoshi</td>\n",
       "      <td>Hentai</td>\n",
       "      <td>OVA</td>\n",
       "      <td>4</td>\n",
       "      <td>4.88</td>\n",
       "      <td>219</td>\n",
       "    </tr>\n",
       "    <tr>\n",
       "      <th>12292</th>\n",
       "      <td>6133</td>\n",
       "      <td>Violence Gekiga Shin David no Hoshi: Inma Dens...</td>\n",
       "      <td>Hentai</td>\n",
       "      <td>OVA</td>\n",
       "      <td>1</td>\n",
       "      <td>4.98</td>\n",
       "      <td>175</td>\n",
       "    </tr>\n",
       "    <tr>\n",
       "      <th>12293</th>\n",
       "      <td>26081</td>\n",
       "      <td>Yasuji no Pornorama: Yacchimae!!</td>\n",
       "      <td>Hentai</td>\n",
       "      <td>Movie</td>\n",
       "      <td>1</td>\n",
       "      <td>5.46</td>\n",
       "      <td>142</td>\n",
       "    </tr>\n",
       "  </tbody>\n",
       "</table>\n",
       "<p>12294 rows × 7 columns</p>\n",
       "</div>"
      ],
      "text/plain": [
       "       anime_id                                               name  \\\n",
       "0         32281                                     Kimi no Na wa.   \n",
       "1          5114                   Fullmetal Alchemist: Brotherhood   \n",
       "2         28977                                           Gintama°   \n",
       "3          9253                                        Steins;Gate   \n",
       "4          9969                                      Gintama&#039;   \n",
       "...         ...                                                ...   \n",
       "12289      9316       Toushindai My Lover: Minami tai Mecha-Minami   \n",
       "12290      5543                                        Under World   \n",
       "12291      5621                     Violence Gekiga David no Hoshi   \n",
       "12292      6133  Violence Gekiga Shin David no Hoshi: Inma Dens...   \n",
       "12293     26081                   Yasuji no Pornorama: Yacchimae!!   \n",
       "\n",
       "                                                   genre   type episodes  \\\n",
       "0                   Drama, Romance, School, Supernatural  Movie        1   \n",
       "1      Action, Adventure, Drama, Fantasy, Magic, Mili...     TV       64   \n",
       "2      Action, Comedy, Historical, Parody, Samurai, S...     TV       51   \n",
       "3                                       Sci-Fi, Thriller     TV       24   \n",
       "4      Action, Comedy, Historical, Parody, Samurai, S...     TV       51   \n",
       "...                                                  ...    ...      ...   \n",
       "12289                                             Hentai    OVA        1   \n",
       "12290                                             Hentai    OVA        1   \n",
       "12291                                             Hentai    OVA        4   \n",
       "12292                                             Hentai    OVA        1   \n",
       "12293                                             Hentai  Movie        1   \n",
       "\n",
       "       rating  members  \n",
       "0        9.37   200630  \n",
       "1        9.26   793665  \n",
       "2        9.25   114262  \n",
       "3        9.17   673572  \n",
       "4        9.16   151266  \n",
       "...       ...      ...  \n",
       "12289    4.15      211  \n",
       "12290    4.28      183  \n",
       "12291    4.88      219  \n",
       "12292    4.98      175  \n",
       "12293    5.46      142  \n",
       "\n",
       "[12294 rows x 7 columns]"
      ]
     },
     "execution_count": 1,
     "metadata": {},
     "output_type": "execute_result"
    }
   ],
   "source": [
    "import pandas as pd\n",
    "import numpy as np\n",
    "# Load dataset\n",
    "df=pd.read_csv(\"anime.csv\")\n",
    "df"
   ]
  },
  {
   "cell_type": "code",
   "execution_count": 42,
   "id": "9945a10c-d4f9-4f4c-893a-bda1a2daa358",
   "metadata": {},
   "outputs": [
    {
     "data": {
      "text/plain": [
       "(12294, 7)"
      ]
     },
     "execution_count": 42,
     "metadata": {},
     "output_type": "execute_result"
    }
   ],
   "source": [
    "# Basic info about dataset\n",
    "df.shape"
   ]
  },
  {
   "cell_type": "code",
   "execution_count": 3,
   "id": "3599eef0-adfe-4ec1-b1c2-995de6e2f735",
   "metadata": {},
   "outputs": [
    {
     "data": {
      "text/plain": [
       "anime_id      int64\n",
       "name         object\n",
       "genre        object\n",
       "type         object\n",
       "episodes     object\n",
       "rating      float64\n",
       "members       int64\n",
       "dtype: object"
      ]
     },
     "execution_count": 3,
     "metadata": {},
     "output_type": "execute_result"
    }
   ],
   "source": [
    "df.dtypes"
   ]
  },
  {
   "cell_type": "code",
   "execution_count": 4,
   "id": "00d51a03-dd79-4afe-abac-c7fbd2a801ce",
   "metadata": {},
   "outputs": [
    {
     "name": "stdout",
     "output_type": "stream",
     "text": [
      "<class 'pandas.core.frame.DataFrame'>\n",
      "RangeIndex: 12294 entries, 0 to 12293\n",
      "Data columns (total 7 columns):\n",
      " #   Column    Non-Null Count  Dtype  \n",
      "---  ------    --------------  -----  \n",
      " 0   anime_id  12294 non-null  int64  \n",
      " 1   name      12294 non-null  object \n",
      " 2   genre     12232 non-null  object \n",
      " 3   type      12269 non-null  object \n",
      " 4   episodes  12294 non-null  object \n",
      " 5   rating    12064 non-null  float64\n",
      " 6   members   12294 non-null  int64  \n",
      "dtypes: float64(1), int64(2), object(4)\n",
      "memory usage: 672.5+ KB\n"
     ]
    }
   ],
   "source": [
    "df.info()"
   ]
  },
  {
   "cell_type": "code",
   "execution_count": 5,
   "id": "2fa6e43c-a552-4404-8fe0-74398250aee2",
   "metadata": {},
   "outputs": [
    {
     "data": {
      "text/html": [
       "<div>\n",
       "<style scoped>\n",
       "    .dataframe tbody tr th:only-of-type {\n",
       "        vertical-align: middle;\n",
       "    }\n",
       "\n",
       "    .dataframe tbody tr th {\n",
       "        vertical-align: top;\n",
       "    }\n",
       "\n",
       "    .dataframe thead th {\n",
       "        text-align: right;\n",
       "    }\n",
       "</style>\n",
       "<table border=\"1\" class=\"dataframe\">\n",
       "  <thead>\n",
       "    <tr style=\"text-align: right;\">\n",
       "      <th></th>\n",
       "      <th>anime_id</th>\n",
       "      <th>rating</th>\n",
       "      <th>members</th>\n",
       "    </tr>\n",
       "  </thead>\n",
       "  <tbody>\n",
       "    <tr>\n",
       "      <th>count</th>\n",
       "      <td>12294.000000</td>\n",
       "      <td>12064.000000</td>\n",
       "      <td>1.229400e+04</td>\n",
       "    </tr>\n",
       "    <tr>\n",
       "      <th>mean</th>\n",
       "      <td>14058.221653</td>\n",
       "      <td>6.473902</td>\n",
       "      <td>1.807134e+04</td>\n",
       "    </tr>\n",
       "    <tr>\n",
       "      <th>std</th>\n",
       "      <td>11455.294701</td>\n",
       "      <td>1.026746</td>\n",
       "      <td>5.482068e+04</td>\n",
       "    </tr>\n",
       "    <tr>\n",
       "      <th>min</th>\n",
       "      <td>1.000000</td>\n",
       "      <td>1.670000</td>\n",
       "      <td>5.000000e+00</td>\n",
       "    </tr>\n",
       "    <tr>\n",
       "      <th>25%</th>\n",
       "      <td>3484.250000</td>\n",
       "      <td>5.880000</td>\n",
       "      <td>2.250000e+02</td>\n",
       "    </tr>\n",
       "    <tr>\n",
       "      <th>50%</th>\n",
       "      <td>10260.500000</td>\n",
       "      <td>6.570000</td>\n",
       "      <td>1.550000e+03</td>\n",
       "    </tr>\n",
       "    <tr>\n",
       "      <th>75%</th>\n",
       "      <td>24794.500000</td>\n",
       "      <td>7.180000</td>\n",
       "      <td>9.437000e+03</td>\n",
       "    </tr>\n",
       "    <tr>\n",
       "      <th>max</th>\n",
       "      <td>34527.000000</td>\n",
       "      <td>10.000000</td>\n",
       "      <td>1.013917e+06</td>\n",
       "    </tr>\n",
       "  </tbody>\n",
       "</table>\n",
       "</div>"
      ],
      "text/plain": [
       "           anime_id        rating       members\n",
       "count  12294.000000  12064.000000  1.229400e+04\n",
       "mean   14058.221653      6.473902  1.807134e+04\n",
       "std    11455.294701      1.026746  5.482068e+04\n",
       "min        1.000000      1.670000  5.000000e+00\n",
       "25%     3484.250000      5.880000  2.250000e+02\n",
       "50%    10260.500000      6.570000  1.550000e+03\n",
       "75%    24794.500000      7.180000  9.437000e+03\n",
       "max    34527.000000     10.000000  1.013917e+06"
      ]
     },
     "execution_count": 5,
     "metadata": {},
     "output_type": "execute_result"
    }
   ],
   "source": [
    "df.describe()"
   ]
  },
  {
   "cell_type": "code",
   "execution_count": 6,
   "id": "cf01836d-b841-4b5c-a49a-11ee441a0948",
   "metadata": {},
   "outputs": [
    {
     "data": {
      "text/plain": [
       "(['anime_id', 'name', 'genre', 'type', 'episodes', 'rating', 'members'],)"
      ]
     },
     "execution_count": 6,
     "metadata": {},
     "output_type": "execute_result"
    }
   ],
   "source": [
    "df.columns.tolist(),"
   ]
  },
  {
   "cell_type": "code",
   "execution_count": 7,
   "id": "41151572-dd29-4106-b2b4-0535a881d420",
   "metadata": {},
   "outputs": [
    {
     "data": {
      "text/plain": [
       "anime_id      0\n",
       "name          0\n",
       "genre        62\n",
       "type         25\n",
       "episodes      0\n",
       "rating      230\n",
       "members       0\n",
       "dtype: int64"
      ]
     },
     "execution_count": 7,
     "metadata": {},
     "output_type": "execute_result"
    }
   ],
   "source": [
    "df.isnull().sum()"
   ]
  },
  {
   "cell_type": "code",
   "execution_count": 8,
   "id": "68863ac4-a285-46ef-ba52-9241aec355d9",
   "metadata": {},
   "outputs": [
    {
     "data": {
      "text/html": [
       "<div>\n",
       "<style scoped>\n",
       "    .dataframe tbody tr th:only-of-type {\n",
       "        vertical-align: middle;\n",
       "    }\n",
       "\n",
       "    .dataframe tbody tr th {\n",
       "        vertical-align: top;\n",
       "    }\n",
       "\n",
       "    .dataframe thead th {\n",
       "        text-align: right;\n",
       "    }\n",
       "</style>\n",
       "<table border=\"1\" class=\"dataframe\">\n",
       "  <thead>\n",
       "    <tr style=\"text-align: right;\">\n",
       "      <th></th>\n",
       "      <th>anime_id</th>\n",
       "      <th>name</th>\n",
       "      <th>genre</th>\n",
       "      <th>type</th>\n",
       "      <th>episodes</th>\n",
       "      <th>rating</th>\n",
       "      <th>members</th>\n",
       "    </tr>\n",
       "  </thead>\n",
       "  <tbody>\n",
       "    <tr>\n",
       "      <th>0</th>\n",
       "      <td>32281</td>\n",
       "      <td>Kimi no Na wa.</td>\n",
       "      <td>Drama, Romance, School, Supernatural</td>\n",
       "      <td>Movie</td>\n",
       "      <td>1</td>\n",
       "      <td>9.37</td>\n",
       "      <td>200630</td>\n",
       "    </tr>\n",
       "    <tr>\n",
       "      <th>1</th>\n",
       "      <td>5114</td>\n",
       "      <td>Fullmetal Alchemist: Brotherhood</td>\n",
       "      <td>Action, Adventure, Drama, Fantasy, Magic, Mili...</td>\n",
       "      <td>TV</td>\n",
       "      <td>64</td>\n",
       "      <td>9.26</td>\n",
       "      <td>793665</td>\n",
       "    </tr>\n",
       "    <tr>\n",
       "      <th>2</th>\n",
       "      <td>28977</td>\n",
       "      <td>Gintama°</td>\n",
       "      <td>Action, Comedy, Historical, Parody, Samurai, S...</td>\n",
       "      <td>TV</td>\n",
       "      <td>51</td>\n",
       "      <td>9.25</td>\n",
       "      <td>114262</td>\n",
       "    </tr>\n",
       "    <tr>\n",
       "      <th>3</th>\n",
       "      <td>9253</td>\n",
       "      <td>Steins;Gate</td>\n",
       "      <td>Sci-Fi, Thriller</td>\n",
       "      <td>TV</td>\n",
       "      <td>24</td>\n",
       "      <td>9.17</td>\n",
       "      <td>673572</td>\n",
       "    </tr>\n",
       "    <tr>\n",
       "      <th>4</th>\n",
       "      <td>9969</td>\n",
       "      <td>Gintama&amp;#039;</td>\n",
       "      <td>Action, Comedy, Historical, Parody, Samurai, S...</td>\n",
       "      <td>TV</td>\n",
       "      <td>51</td>\n",
       "      <td>9.16</td>\n",
       "      <td>151266</td>\n",
       "    </tr>\n",
       "  </tbody>\n",
       "</table>\n",
       "</div>"
      ],
      "text/plain": [
       "   anime_id                              name  \\\n",
       "0     32281                    Kimi no Na wa.   \n",
       "1      5114  Fullmetal Alchemist: Brotherhood   \n",
       "2     28977                          Gintama°   \n",
       "3      9253                       Steins;Gate   \n",
       "4      9969                     Gintama&#039;   \n",
       "\n",
       "                                               genre   type episodes  rating  \\\n",
       "0               Drama, Romance, School, Supernatural  Movie        1    9.37   \n",
       "1  Action, Adventure, Drama, Fantasy, Magic, Mili...     TV       64    9.26   \n",
       "2  Action, Comedy, Historical, Parody, Samurai, S...     TV       51    9.25   \n",
       "3                                   Sci-Fi, Thriller     TV       24    9.17   \n",
       "4  Action, Comedy, Historical, Parody, Samurai, S...     TV       51    9.16   \n",
       "\n",
       "   members  \n",
       "0   200630  \n",
       "1   793665  \n",
       "2   114262  \n",
       "3   673572  \n",
       "4   151266  "
      ]
     },
     "execution_count": 8,
     "metadata": {},
     "output_type": "execute_result"
    }
   ],
   "source": [
    "df.head()"
   ]
  },
  {
   "cell_type": "markdown",
   "id": "a84bc356-8a2f-469d-9fb3-2cba2d098990",
   "metadata": {},
   "source": [
    "##### Handling missing values"
   ]
  },
  {
   "cell_type": "code",
   "execution_count": 9,
   "id": "f7f61856-a206-44b7-a287-b46d5c59db9d",
   "metadata": {},
   "outputs": [],
   "source": [
    "df['genre'] = df['genre'].fillna('Unknown')"
   ]
  },
  {
   "cell_type": "code",
   "execution_count": 10,
   "id": "be3f87cb-fe2d-4612-a66f-5613fefc0190",
   "metadata": {},
   "outputs": [],
   "source": [
    "df['type'] = df['type'].fillna('Unknown')"
   ]
  },
  {
   "cell_type": "code",
   "execution_count": 11,
   "id": "e6ca0e02-64c4-4e3c-b614-ba0abee242f2",
   "metadata": {},
   "outputs": [],
   "source": [
    "df['episodes'] = df['episodes'].replace('Unknown', np.nan)\n",
    "df['episodes'] = df['episodes'].astype(float)\n",
    "df['episodes'] = df['episodes'].fillna(df['episodes'].median())"
   ]
  },
  {
   "cell_type": "code",
   "execution_count": 12,
   "id": "12167e04-afa8-4f00-b6da-d057fde593d3",
   "metadata": {},
   "outputs": [],
   "source": [
    "df['rating'] = df['rating'].fillna(df['rating'].median())"
   ]
  },
  {
   "cell_type": "code",
   "execution_count": 13,
   "id": "147cd2c9-5944-43b2-97d1-a098c07db7cc",
   "metadata": {},
   "outputs": [
    {
     "data": {
      "text/plain": [
       "anime_id    0\n",
       "name        0\n",
       "genre       0\n",
       "type        0\n",
       "episodes    0\n",
       "rating      0\n",
       "members     0\n",
       "dtype: int64"
      ]
     },
     "execution_count": 13,
     "metadata": {},
     "output_type": "execute_result"
    }
   ],
   "source": [
    "df.isnull().sum()"
   ]
  },
  {
   "cell_type": "markdown",
   "id": "c306b979-ac73-44aa-9ce5-feea058aa2b9",
   "metadata": {},
   "source": [
    "##### Feature Extraction"
   ]
  },
  {
   "cell_type": "code",
   "execution_count": 14,
   "id": "824736f1-a166-4e89-90ad-395367881817",
   "metadata": {},
   "outputs": [],
   "source": [
    "#Convert Categorical Features into Numerical Representations\n",
    "from sklearn.feature_extraction.text import CountVectorizer\n",
    "vectorizer = CountVectorizer(tokenizer=lambda x: x.split(\", \"), token_pattern=None)\n",
    "genre_matrix = vectorizer.fit_transform(df['genre'])"
   ]
  },
  {
   "cell_type": "code",
   "execution_count": 15,
   "id": "df4d7b7b-7c3b-4f80-beb1-de43290809b3",
   "metadata": {},
   "outputs": [],
   "source": [
    "type_vectorizer = CountVectorizer()\n",
    "type_matrix = type_vectorizer.fit_transform(df['type'])"
   ]
  },
  {
   "cell_type": "code",
   "execution_count": 16,
   "id": "92eb11d7-d4ed-4c56-a58c-4ef77ace2703",
   "metadata": {},
   "outputs": [],
   "source": [
    "#Normalize Numerical Features\n",
    "from sklearn.preprocessing import MinMaxScaler\n",
    "scaler = MinMaxScaler()\n",
    "numeric_features = scaler.fit_transform(df[['rating', 'members', 'episodes']])"
   ]
  },
  {
   "cell_type": "code",
   "execution_count": 17,
   "id": "4ad957e1-6276-4a8a-b853-d9b54cebeea6",
   "metadata": {},
   "outputs": [],
   "source": [
    "#Combine All Features\n",
    "from scipy.sparse import hstack\n",
    "feature_matrix = hstack([genre_matrix, type_matrix, numeric_features])"
   ]
  },
  {
   "cell_type": "markdown",
   "id": "26711889-1d69-45da-a4a3-e26f92da840a",
   "metadata": {},
   "source": [
    "#### Recommendation System:"
   ]
  },
  {
   "cell_type": "code",
   "execution_count": 18,
   "id": "f0ead1fc-4c75-445b-9b64-8a61c01a4d92",
   "metadata": {},
   "outputs": [
    {
     "name": "stdout",
     "output_type": "stream",
     "text": [
      "Shape of cosine similarity matrix: (12294, 12294)\n"
     ]
    }
   ],
   "source": [
    "from sklearn.metrics.pairwise import cosine_similarity\n",
    "cosine_sim = cosine_similarity(feature_matrix)\n",
    "print(\"Shape of cosine similarity matrix:\", cosine_sim.shape)"
   ]
  },
  {
   "cell_type": "code",
   "execution_count": 32,
   "id": "361177f2-5d1f-4025-a7f1-a7aefe117942",
   "metadata": {},
   "outputs": [],
   "source": [
    "def recommend_anime(title, top_n=10, threshold=0.5):\n",
    "    # Check if anime exists\n",
    "    if title not in df['name'].values:\n",
    "        return f\"Anime '{title}' not found in dataset.\"\n",
    "    \n",
    "    # Find index of the anime\n",
    "    idx = df[df['name'] == title].index[0]\n",
    "    \n",
    "    # Get similarity scores for this anime\n",
    "    sim_scores = list(enumerate(cosine_sim[idx]))\n",
    "    \n",
    "    # Sort by similarity score (highest first)\n",
    "    sim_scores = sorted(sim_scores, key=lambda x: x[1], reverse=True)\n",
    "    \n",
    "    # Remove itself & filter by threshold\n",
    "    sim_scores = [x for x in sim_scores if x[0] != idx and x[1] >= threshold]\n",
    "    \n",
    "    # Get top-N recommendations\n",
    "    top_animes = [(df.iloc[i[0]]['name'], round(i[1], 3)) for i in sim_scores[:top_n]]\n",
    "    return top_animes"
   ]
  },
  {
   "cell_type": "code",
   "execution_count": 33,
   "id": "ff89d3be-8acc-48aa-99bc-5e66322996c8",
   "metadata": {},
   "outputs": [
    {
     "name": "stdout",
     "output_type": "stream",
     "text": [
      "get_recommendations function defined.\n"
     ]
    }
   ],
   "source": [
    "def get_recommendations(title, cosine_sim, df):\n",
    "    # Get the index of the anime that matches the title\n",
    "    idx = df[df['name'] == title].index[0]\n",
    "\n",
    "    # Get the pairwise similarity scores for all anime with that anime\n",
    "    sim_scores = list(enumerate(cosine_sim[idx]))\n",
    "\n",
    "    # Sort the anime based on the similarity scores\n",
    "    sim_scores = sorted(sim_scores, key=lambda x: x[1], reverse=True)\n",
    "\n",
    "    # Get the scores of the 10 most similar anime (excluding the input anime)\n",
    "    sim_scores = sim_scores[1:11]\n",
    "\n",
    "    # Get the anime indices\n",
    "    anime_indices = [i[0] for i in sim_scores]\n",
    "\n",
    "    # Return the top 10 most similar anime titles\n",
    "    return df['name'].iloc[anime_indices].tolist()\n",
    "\n",
    "print(\"get_recommendations function defined.\")"
   ]
  },
  {
   "cell_type": "code",
   "execution_count": 34,
   "id": "ce9bfd50-7621-448d-923e-c8a3a1f16d53",
   "metadata": {},
   "outputs": [],
   "source": [
    "def get_recommendations_with_threshold(title, cosine_sim, df, threshold):\n",
    "\n",
    "    # Get the index of the anime that matches the title\n",
    "    idx = df[df['name'] == title].index[0]\n",
    "\n",
    "    # Get the pairwise similarity scores for all anime with that anime\n",
    "    sim_scores = list(enumerate(cosine_sim[idx]))\n",
    "\n",
    "    # Sort the anime based on the similarity scores\n",
    "    sim_scores = sorted(sim_scores, key=lambda x: x[1], reverse=True)\n",
    "\n",
    "    # Filter recommendations based on the threshold\n",
    "    filtered_sim_scores = [score for score in sim_scores if score[1] > threshold]\n",
    "\n",
    "    # Get the anime indices (excluding the input anime if its score is above threshold)\n",
    "    anime_indices = [i[0] for i in filtered_sim_scores if i[0] != idx]\n",
    "\n",
    "    # Return the recommended anime titles\n",
    "    return df['name'].iloc[anime_indices].tolist()"
   ]
  },
  {
   "cell_type": "code",
   "execution_count": 35,
   "id": "a7420241-e5ad-46d5-8555-4f57529baa42",
   "metadata": {},
   "outputs": [
    {
     "name": "stdout",
     "output_type": "stream",
     "text": [
      "Recommendations for 'Naruto':\n",
      "  Threshold 0.2: 7938 recommendations\n",
      "  Threshold 0.5: 1491 recommendations\n",
      "  Threshold 0.7: 125 recommendations\n",
      "\n",
      "Recommendations for 'Steins;Gate':\n",
      "  Threshold 0.2: 5169 recommendations\n",
      "  Threshold 0.5: 574 recommendations\n",
      "  Threshold 0.7: 12 recommendations\n"
     ]
    }
   ],
   "source": [
    "# Experiment with different threshold values\n",
    "anime_title_1 = 'Naruto'\n",
    "anime_title_2 = 'Steins;Gate'\n",
    "\n",
    "thresholds = [0.2, 0.5, 0.7]\n",
    "\n",
    "print(f\"Recommendations for '{anime_title_1}':\")\n",
    "for threshold in thresholds:\n",
    "    recommendations = get_recommendations_with_threshold(anime_title_1, cosine_sim, df, threshold)\n",
    "    print(f\"  Threshold {threshold}: {len(recommendations)} recommendations\")\n",
    "\n",
    "print(f\"\\nRecommendations for '{anime_title_2}':\")\n",
    "for threshold in thresholds:\n",
    "    recommendations = get_recommendations_with_threshold(anime_title_2, cosine_sim, df, threshold)\n",
    "    print(f\"  Threshold {threshold}: {len(recommendations)} recommendations\")"
   ]
  },
  {
   "cell_type": "code",
   "execution_count": 37,
   "id": "3319dadd-f49b-4df4-b150-5c5a53f7f8b8",
   "metadata": {},
   "outputs": [
    {
     "data": {
      "image/png": "[encoded data removed]",
      "text/plain": [
       "<Figure size 900x600 with 1 Axes>"
      ]
     },
     "metadata": {},
     "output_type": "display_data"
    }
   ],
   "source": [
    "import matplotlib.pyplot as plt\n",
    "import numpy as np\n",
    "\n",
    "def count_recommendations(title, thresholds, top_n=50):\n",
    "   \n",
    "#Count how many recommendations an anime gets for different thresholds.\n",
    "    counts = []\n",
    "    for t in thresholds:\n",
    "        recs = recommend_anime(title, top_n=top_n, threshold=t)\n",
    "        counts.append(len(recs) if isinstance(recs, list) else 0)\n",
    "    return counts\n",
    "# Define thresholds to test\n",
    "thresholds = np.linspace(0.1, 0.9, 9)\n",
    "# List of anime to compare\n",
    "anime_list = [\"Naruto\", \"One Piece\", \"Bleach\"]\n",
    "plt.figure(figsize=(9,6))\n",
    "# Plot recommendation counts for each anime\n",
    "for anime_title in anime_list:\n",
    "    counts = count_recommendations(anime_title, thresholds)\n",
    "    plt.plot(thresholds, counts, marker='o', label=anime_title)\n",
    "\n",
    "plt.title(\"Effect of Threshold on Recommendations\")\n",
    "plt.xlabel(\"Threshold Value\")\n",
    "plt.ylabel(\"Number of Recommendations\")\n",
    "plt.legend()\n",
    "plt.grid(True)\n",
    "plt.show()"
   ]
  },
  {
   "cell_type": "markdown",
   "id": "7cbcb1e3-31f7-4e35-ba21-956eb1987b1d",
   "metadata": {},
   "source": [
    "#### Evaluation"
   ]
  },
  {
   "cell_type": "code",
   "execution_count": 36,
   "id": "e2029c84-2428-4be5-ba40-9fd041c50671",
   "metadata": {},
   "outputs": [],
   "source": [
    "from sklearn.model_selection import train_test_split\n",
    "train_df, test_df = train_test_split(df, test_size=0.2, random_state=42)"
   ]
  },
  {
   "cell_type": "code",
   "execution_count": 38,
   "id": "47a043b8-08d6-492a-a866-235a7367a694",
   "metadata": {},
   "outputs": [],
   "source": [
    "# Function to evaluate recommendations\n",
    "def evaluate_recommendations(recommend_func, test_data, top_n=10):\n",
    "    # Calculate precision, recall, and F1-score for the recommendation system.\n",
    "    true_positives = 0\n",
    "    actual_positives = 0\n",
    "    recommended_positives = 0\n",
    "\n",
    "    for index, row in test_data.iterrows():\n",
    "        anime_name = row['name']\n",
    "        # For evaluation purposes, let's assume that an anime is relevant if it has a rating above 7.5\n",
    "        # In a real-world scenario, you would have user interaction data (e.g., watches, likes)\n",
    "        relevant_animes = test_data[test_data['rating'] > 7.5]['name'].tolist()\n",
    "        actual_positives += len(relevant_animes)\n",
    "\n",
    "        recommendations = recommend_func(anime_name, top_n=top_n, threshold=0) # Use a low threshold for evaluation\n",
    "\n",
    "        if isinstance(recommendations, list):\n",
    "            recommended_animes = [rec[0] for rec in recommendations]\n",
    "            recommended_positives += len(recommended_animes)\n",
    "\n",
    "            for rec_anime in recommended_animes:\n",
    "                if rec_anime in relevant_animes:\n",
    "                    true_positives += 1\n",
    "\n",
    "    # Avoid division by zero\n",
    "    precision = true_positives / recommended_positives if recommended_positives > 0 else 0\n",
    "    recall = true_positives / actual_positives if actual_positives > 0 else 0\n",
    "    f1 = 2 * (precision * recall) / (precision + recall) if (precision + recall) > 0 else 0\n",
    "\n",
    "    return precision, recall, f1"
   ]
  },
  {
   "cell_type": "code",
   "execution_count": 39,
   "id": "c09eba19-8bd6-4437-a14a-303615a69e25",
   "metadata": {},
   "outputs": [],
   "source": [
    "# Evaluate the recommendation system on the test set\n",
    "precision, recall, f1 = evaluate_recommendations(recommend_anime, test_df)"
   ]
  },
  {
   "cell_type": "code",
   "execution_count": 40,
   "id": "81f4f105-60cd-4cdc-951f-a85cf21c84f1",
   "metadata": {},
   "outputs": [
    {
     "name": "stdout",
     "output_type": "stream",
     "text": [
      "Precision: 0.0303\n",
      "Recall: 0.0009\n",
      "F1-score: 0.0017\n"
     ]
    }
   ],
   "source": [
    "print(f\"Precision: {precision:.4f}\")\n",
    "print(f\"Recall: {recall:.4f}\")\n",
    "print(f\"F1-score: {f1:.4f}\")"
   ]
  },
  {
   "cell_type": "code",
   "execution_count": 41,
   "id": "795b3346-14d9-46d2-b155-6b3f813a643f",
   "metadata": {},
   "outputs": [
    {
     "name": "stdout",
     "output_type": "stream",
     "text": [
      "\n",
      "Analysis:\n",
      "- The precision of 0.0303 indicates that 3.03% of the recommended items are relevant.\n",
      "- The recall of 0.0009 indicates that 0.09% of the relevant items were recommended.\n",
      "- The F1-score of 0.0017 is the harmonic mean of precision and recall, providing a balanced measure of the system's performance.\n"
     ]
    }
   ],
   "source": [
    "# Analyze the results\n",
    "print(\"\\nAnalysis:\")\n",
    "print(f\"- The precision of {precision:.4f} indicates that {precision*100:.2f}% of the recommended items are relevant.\")\n",
    "print(f\"- The recall of {recall:.4f} indicates that {recall*100:.2f}% of the relevant items were recommended.\")\n",
    "print(f\"- The F1-score of {f1:.4f} is the harmonic mean of precision and recall, providing a balanced measure of the system's performance.\")"
   ]
  },
  {
   "cell_type": "markdown",
   "id": "c7f5507d-f761-450f-9ad5-e240a2b716ef",
   "metadata": {},
   "source": [
    "Interview Questions:\n",
    "1. Can you explain the difference between user-based and item-based collaborative filtering?\n",
    "\n",
    "User-based collaborative filtering recommends items by identifying users who have similar tastes and suggesting items those similar users liked \n",
    "but the target user has not yet interacted with. In contrast, \n",
    "Item-based collaborative filtering focuses on finding items that are similar to the ones a user already likes, and then recommending those related items. \n",
    "While user-based methods can capture dynamic shifts in user preferences, they often face scalability issues as the number of users grows.\n",
    "Item-based methods, on the other hand, are generally more stable and scalable since item relationships do not change as frequently as user behaviors. \n",
    "However, they can suffer from the “cold start” problem when new items lack interaction data. \n",
    "In practice, item-based collaborative filtering is more widely used in large-scale systems like Amazon’s product recommendations because of its efficiency and stability."
   ]
  },
  {
   "cell_type": "markdown",
   "id": "2c4d36bc-8765-4e39-85af-e5243b391623",
   "metadata": {},
   "source": [
    "2. What is collaborative filtering, and how does it work?\n",
    "\n",
    "Collaborative filtering (CF) is a recommendation technique that predicts what a user might like based on the preferences and behaviors of other users. \n",
    "The core idea is that people with similar past behaviors tend to have similar future preferences.\n",
    "It works by analyzing patterns of interactions (like ratings, purchases, or clicks) in a user–item matrix:\n",
    "\n",
    "User-based CF finds users with similar tastes to the target user and recommends items that those similar users liked.\n",
    "Item-based CF finds items that are similar to those the target user has already liked and recommends them."
   ]
  },
  {
   "cell_type": "code",
   "execution_count": null,
   "id": "55919c35-242b-40d8-afcd-53776ef7c08c",
   "metadata": {},
   "outputs": [],
   "source": []
  }
 ],
 "metadata": {
  "kernelspec": {
   "display_name": "Python [conda env:base] *",
   "language": "python",
   "name": "conda-base-py"
  },
  "language_info": {
   "codemirror_mode": {
    "name": "ipython",
    "version": 3
   },
   "file_extension": ".py",
   "mimetype": "text/x-python",
   "name": "python",
   "nbconvert_exporter": "python",
   "pygments_lexer": "ipython3",
   "version": "3.12.7"
  }
 },
 "nbformat": 4,
 "nbformat_minor": 5
}
