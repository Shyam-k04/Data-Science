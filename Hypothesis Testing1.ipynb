{
 "cells": [
  {
   "cell_type": "markdown",
   "id": "e4d81031-534d-4af2-88c3-50633123a1b9",
   "metadata": {},
   "source": [
    "### 1. State the Hypothesis statement:\n"
   ]
  },
  {
   "cell_type": "code",
   "execution_count": 1,
   "id": "e54556d3-a997-4fe8-be68-55b4605e18b9",
   "metadata": {},
   "outputs": [],
   "source": [
    "import numpy as np\n",
    "from scipy.stats import norm"
   ]
  },
  {
   "cell_type": "code",
   "execution_count": 2,
   "id": "2a5d64df-acd2-481e-bcb3-d3cea9c2f8e8",
   "metadata": {},
   "outputs": [],
   "source": [
    "# From the theoretical cost model: W = $1,000 + $5X\n",
    "fixed_cost = 1000\n",
    "variable_cost_per_unit = 5"
   ]
  },
  {
   "cell_type": "code",
   "execution_count": 3,
   "id": "1e8dd33d-5564-4391-9181-b46a97cf7576",
   "metadata": {},
   "outputs": [],
   "source": [
    "#Data from the sample of 25 restaurants\n",
    "sample_mean_cost = 3050  # ˉxˉ \n",
    "sample_size = 25  # n"
   ]
  },
  {
   "cell_type": "code",
   "execution_count": 4,
   "id": "db6cf7db-5418-41c6-91b3-624497c255cf",
   "metadata": {},
   "outputs": [],
   "source": [
    "# Distribution data for units produced (X)\n",
    "mean_units_produced = 600  # μ_X\n",
    "std_dev_units_produced = 25  # σ_X"
   ]
  },
  {
   "cell_type": "code",
   "execution_count": 5,
   "id": "7000ca31-0a93-48c4-bb71-04ebc88dda99",
   "metadata": {},
   "outputs": [],
   "source": [
    "# Alpha level for the hypothesis test\n",
    "alpha = 0.05"
   ]
  },
  {
   "cell_type": "code",
   "execution_count": 6,
   "id": "9a50fd17-47e6-4fb7-9b9c-32e593b7d2ce",
   "metadata": {},
   "outputs": [
    {
     "name": "stdout",
     "output_type": "stream",
     "text": [
      "Null Hypothesis (Ho): The true mean weekly cost is equal to the theoretical cost.\n",
      "   Ho: μ = $ 4000\n",
      "Alternative Hypothesis (H1): The true mean weekly cost is greater than the theoretical cost.\n",
      "   H1: μ > $ 4000\n"
     ]
    }
   ],
   "source": [
    "theoretical_mean_cost = fixed_cost + (variable_cost_per_unit * mean_units_produced)\n",
    "print(\"Null Hypothesis (Ho): The true mean weekly cost is equal to the theoretical cost.\")\n",
    "print(\"   Ho: μ = $\",theoretical_mean_cost)\n",
    "print(\"Alternative Hypothesis (H1): The true mean weekly cost is greater than the theoretical cost.\")\n",
    "print(\"   H1: μ > $\",theoretical_mean_cost)"
   ]
  },
  {
   "cell_type": "markdown",
   "id": "37822b6d-cd70-4a90-8393-bbcc4f7ca810",
   "metadata": {},
   "source": [
    "### Step 2: Calculating the Test Statistic\n"
   ]
  },
  {
   "cell_type": "code",
   "execution_count": 7,
   "id": "478837ab-65ef-4e38-8970-12f2e10ddab4",
   "metadata": {},
   "outputs": [],
   "source": [
    "# The standard deviation of the weekly cost (W) \n",
    "# σ_W = 5 * σ_X \n",
    "sigma_cost = variable_cost_per_unit * std_dev_units_produced"
   ]
  },
  {
   "cell_type": "code",
   "execution_count": 8,
   "id": "50e4829e-35e3-420d-a8cc-e42550337238",
   "metadata": {},
   "outputs": [],
   "source": [
    "# Calculating the standard error of the mean \n",
    "standard_error = sigma_cost / np.sqrt(sample_size)"
   ]
  },
  {
   "cell_type": "code",
   "execution_count": 9,
   "id": "c5a6b215-16c4-4e1e-bbc4-668d38c02eac",
   "metadata": {},
   "outputs": [],
   "source": [
    "# Calculating the Z-statistic\n",
    "test_statistic = (sample_mean_cost - theoretical_mean_cost) / standard_error"
   ]
  },
  {
   "cell_type": "code",
   "execution_count": 10,
   "id": "42bbf869-7e32-493a-adcc-f71b23d727d1",
   "metadata": {},
   "outputs": [
    {
     "name": "stdout",
     "output_type": "stream",
     "text": [
      "Sample Mean (x): Rs.: 3050\n",
      "Theoretical Mean (μ): $: 4000\n",
      "Standard Deviation of Cost (σ): 125\n",
      "Sample Size (n): 25\n",
      "Test Statistic (Z): -38.0\n"
     ]
    }
   ],
   "source": [
    "print(\"Sample Mean (x): Rs.:\",sample_mean_cost)\n",
    "print(\"Theoretical Mean (μ): $:\",theoretical_mean_cost)\n",
    "print(\"Standard Deviation of Cost (σ):\",sigma_cost)\n",
    "print(\"Sample Size (n):\",sample_size)\n",
    "print(\"Test Statistic (Z):\",test_statistic)"
   ]
  },
  {
   "cell_type": "markdown",
   "id": "8527fea4-14b0-4f12-b940-3bb77205ea1f",
   "metadata": {},
   "source": [
    "### Step 3: Determining the Critical Value\n"
   ]
  },
  {
   "cell_type": "code",
   "execution_count": 11,
   "id": "706c438b-caed-439d-a4ae-ebe7b15386bf",
   "metadata": {},
   "outputs": [
    {
     "name": "stdout",
     "output_type": "stream",
     "text": [
      "Significance Level (α): 0.05\n",
      "Critical Value for a Right-tailed test: 1.6448536269514722\n"
     ]
    }
   ],
   "source": [
    "#we are doing right-tailed test,it is used for claims of being \"greater than\" or \"higher \n",
    "# The ppf (percent point function) is the inverse of the CDF(Cumulative Distribution Function).\n",
    "critical_value = norm.ppf(1 - alpha)\n",
    "print(\"Significance Level (α):\",alpha)\n",
    "print(\"Critical Value for a Right-tailed test:\",critical_value)"
   ]
  },
  {
   "cell_type": "markdown",
   "id": "81c65207-1204-4b43-87cd-d094b8610007",
   "metadata": {},
   "source": [
    "### Step 4: Making a Statistical Decision"
   ]
  },
  {
   "cell_type": "code",
   "execution_count": 12,
   "id": "1f1a3601-10e5-4914-b6fc-cc1533d6d4b5",
   "metadata": {},
   "outputs": [
    {
     "name": "stdout",
     "output_type": "stream",
     "text": [
      "Comparing Test Statistic -38.0 with Critical Value 1.6448536269514722\n",
      "Decision: Failed to reject the null hypothesis (Ho).\n"
     ]
    }
   ],
   "source": [
    "print(\"Comparing Test Statistic\",test_statistic ,\"with Critical Value\",critical_value)\n",
    "if test_statistic > critical_value:\n",
    "    decision = \"Reject the null hypothesis (Ho).\"\n",
    "else:\n",
    "    decision = \"Failed to reject the null hypothesis (Ho).\"\n",
    "print(\"Decision:\",decision)"
   ]
  },
  {
   "cell_type": "markdown",
   "id": "b8add685-2415-4aed-b9e0-096af80c464f",
   "metadata": {},
   "source": [
    "### Step 5: Drawing a Conclusion\n"
   ]
  },
  {
   "cell_type": "code",
   "execution_count": 13,
   "id": "465ef936-f94c-47f3-b792-8f47fca06318",
   "metadata": {},
   "outputs": [
    {
     "name": "stdout",
     "output_type": "stream",
     "text": [
      "There is not enough statistical evidence to support the restaurant owners' claim.\n",
      "The observed weekly costs are not significantly higher than the model suggests.\n",
      "\n",
      "In fact, the sample mean cost of Rs. 3,050 is substantially lower than the\n",
      "model's predicted cost of $4,000, directly contradicting the claim.\n"
     ]
    }
   ],
   "source": [
    "\n",
    "if decision == \"Reject the null hypothesis (H₀).\":\n",
    "    print(\"There is strong statistical evidence to support the restaurant owners' claim.\")\n",
    "    print(\"The weekly operating costs are significantly higher than the model suggests.\")\n",
    "else:\n",
    "    print(\"There is not enough statistical evidence to support the restaurant owners' claim.\")\n",
    "    print(\"The observed weekly costs are not significantly higher than the model suggests.\")\n",
    "    print(\"\\nIn fact, the sample mean cost of Rs. 3,050 is substantially lower than the\")\n",
    "    print(\"model's predicted cost of $4,000, directly contradicting the claim.\")"
   ]
  },
  {
   "cell_type": "code",
   "execution_count": null,
   "id": "5e14e540-a27b-45dd-9979-ff109949e7ac",
   "metadata": {},
   "outputs": [],
   "source": []
  }
 ],
 "metadata": {
  "kernelspec": {
   "display_name": "Python [conda env:base] *",
   "language": "python",
   "name": "conda-base-py"
  },
  "language_info": {
   "codemirror_mode": {
    "name": "ipython",
    "version": 3
   },
   "file_extension": ".py",
   "mimetype": "text/x-python",
   "name": "python",
   "nbconvert_exporter": "python",
   "pygments_lexer": "ipython3",
   "version": "3.12.7"
  }
 },
 "nbformat": 4,
 "nbformat_minor": 5
}
