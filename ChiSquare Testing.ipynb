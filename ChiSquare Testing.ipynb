{
 "cells": [
  {
   "cell_type": "code",
   "execution_count": 1,
   "id": "7e7600e1-f698-43e4-8990-403f6ca1e8e0",
   "metadata": {},
   "outputs": [],
   "source": [
    "import numpy as np\n",
    "import scipy.stats as stats"
   ]
  },
  {
   "cell_type": "markdown",
   "id": "64fc0416-dc91-4a42-b843-c63f6ae4b575",
   "metadata": {},
   "source": [
    "### 1. State the Hypotheses:"
   ]
  },
  {
   "cell_type": "code",
   "execution_count": 2,
   "id": "e62f19c9-0f78-4a3a-a308-b44f49317498",
   "metadata": {},
   "outputs": [
    {
     "name": "stdout",
     "output_type": "stream",
     "text": [
      "Null Hypothesis (H0): There is no association between device type and customer satisfaction.\n",
      "Alternative Hypothesis (H1): There is an association between device type and customer satisfaction.\n",
      "\n"
     ]
    }
   ],
   "source": [
    "print(\"Null Hypothesis (H0): There is no association between device type and customer satisfaction.\")\n",
    "print(\"Alternative Hypothesis (H1): There is an association between device type and customer satisfaction.\\n\")"
   ]
  },
  {
   "cell_type": "code",
   "execution_count": 3,
   "id": "975a9199-d877-4e69-a4b4-1e6bfe0454f6",
   "metadata": {},
   "outputs": [],
   "source": [
    "import numpy as np\n",
    "from scipy.stats import chi2_contingency, chi2\n",
    "observed = np.array([\n",
    "    [50, 70],   # Very Satisfied\n",
    "    [80, 100],  # Satisfied\n",
    "    [60, 90],   # Neutral\n",
    "    [30, 50],   # Unsatisfied\n",
    "    [20, 50]])  # Very Unsatisfied"
   ]
  },
  {
   "cell_type": "code",
   "execution_count": 4,
   "id": "e973c4e6-b194-44a3-abf1-02bf7eaecb3e",
   "metadata": {},
   "outputs": [],
   "source": [
    "# Significance level\n",
    "alpha = 0.05"
   ]
  },
  {
   "cell_type": "markdown",
   "id": "0484441e-b556-4452-8016-cbe04086cb5d",
   "metadata": {},
   "source": [
    "### 2. Compute the Chi-Square Statistic\n"
   ]
  },
  {
   "cell_type": "code",
   "execution_count": 6,
   "id": "f91b3c70-a6c8-497a-8821-81ab8113a078",
   "metadata": {},
   "outputs": [
    {
     "name": "stdout",
     "output_type": "stream",
     "text": [
      "Observed Data Table:\n",
      "[[ 50  70]\n",
      " [ 80 100]\n",
      " [ 60  90]\n",
      " [ 30  50]\n",
      " [ 20  50]]\n",
      "\n",
      "Expected Frequencies Table:\n",
      "[[ 48.  72.]\n",
      " [ 72. 108.]\n",
      " [ 60.  90.]\n",
      " [ 32.  48.]\n",
      " [ 28.  42.]]\n",
      "\n"
     ]
    }
   ],
   "source": [
    "chi2_stat, p_value, dof, expected_freq = chi2_contingency(observed)\n",
    "print(f\"Observed Data Table:\\n{observed}\\n\")\n",
    "print(f\"Expected Frequencies Table:\\n{np.round(expected_freq, 2)}\\n\")"
   ]
  },
  {
   "cell_type": "code",
   "execution_count": 7,
   "id": "b96f6a23-4a04-404b-a73b-8848d7eff2da",
   "metadata": {},
   "outputs": [
    {
     "name": "stdout",
     "output_type": "stream",
     "text": [
      "Degrees of Freedom (dof): 4\n",
      "Chi-Square  Statistic: 5.6382\n",
      "P-value: 0.2278\n"
     ]
    }
   ],
   "source": [
    "print(f\"Degrees of Freedom (dof): {dof}\")\n",
    "print(f\"Chi-Square  Statistic: {chi2_stat:.4f}\")\n",
    "print(f\"P-value: {p_value:.4f}\")"
   ]
  },
  {
   "cell_type": "markdown",
   "id": "d39e8c0f-2982-4c76-8c53-cfd10cb782cd",
   "metadata": {},
   "source": [
    "### 3. Determine the Critical Value:\n"
   ]
  },
  {
   "cell_type": "code",
   "execution_count": 8,
   "id": "b6dfe87b-217e-41f5-b093-ab27473eda4b",
   "metadata": {},
   "outputs": [
    {
     "name": "stdout",
     "output_type": "stream",
     "text": [
      "Significance Level (alpha): 0.05\n",
      "Degrees of Freedom (dof): 4\n",
      "Critical Value: 9.4877\n"
     ]
    }
   ],
   "source": [
    "critical_value = chi2.ppf(1 - alpha, dof)\n",
    "print(f\"Significance Level (alpha): {alpha}\")\n",
    "print(f\"Degrees of Freedom (dof): {dof}\")\n",
    "print(f\"Critical Value: {critical_value:.4f}\")"
   ]
  },
  {
   "cell_type": "markdown",
   "id": "427ac6c4-27c5-4767-b026-d376de52ae4b",
   "metadata": {},
   "source": [
    "### 4. Make a Decision:"
   ]
  },
  {
   "cell_type": "code",
   "execution_count": 9,
   "id": "ecf6076c-fd6c-4dd2-9e70-06d28abd721d",
   "metadata": {},
   "outputs": [
    {
     "name": "stdout",
     "output_type": "stream",
     "text": [
      "\n",
      "Decision: Fail to Reject the Null Hypothesis (H₀).\n",
      "\n",
      "Conclusion:\n",
      "The calculated Chi-Square statistic is not greater than the critical value.\n",
      "This suggests that there is not enough statistical evidence to conclude that an association exists between the type of device purchased and customer satisfaction at the 0.05 significance level.\n"
     ]
    }
   ],
   "source": [
    "if chi2_stat > critical_value:\n",
    "    print(\"\\nDecision: Reject the Null Hypothesis (H₀).\")\n",
    "    print(\"\\nConclusion:\")\n",
    "    print(\"The calculated Chi-Square statistic is greater than the critical value.\")\n",
    "    print(\"This suggests that there is a statistically significant association between the type of device purchased and customer satisfaction.\")\n",
    "else:\n",
    "    print(\"\\nDecision: Fail to Reject the Null Hypothesis (H₀).\")\n",
    "    print(\"\\nConclusion:\")\n",
    "    print(\"The calculated Chi-Square statistic is not greater than the critical value.\")\n",
    "    print(\"This suggests that there is not enough statistical evidence to conclude that an association exists between the type of device purchased and customer satisfaction at the 0.05 significance level.\")"
   ]
  }
 ],
 "metadata": {
  "kernelspec": {
   "display_name": "Python [conda env:base] *",
   "language": "python",
   "name": "conda-base-py"
  },
  "language_info": {
   "codemirror_mode": {
    "name": "ipython",
    "version": 3
   },
   "file_extension": ".py",
   "mimetype": "text/x-python",
   "name": "python",
   "nbconvert_exporter": "python",
   "pygments_lexer": "ipython3",
   "version": "3.12.7"
  }
 },
 "nbformat": 4,
 "nbformat_minor": 5
}
